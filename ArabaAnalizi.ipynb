{
 "cells": [
  {
   "cell_type": "code",
   "execution_count": 3,
   "id": "69cd511a",
   "metadata": {},
   "outputs": [
    {
     "name": "stderr",
     "output_type": "stream",
     "text": [
      "/Users/ikbalkavak/opt/anaconda3/lib/python3.9/site-packages/scipy/__init__.py:146: UserWarning: A NumPy version >=1.16.5 and <1.23.0 is required for this version of SciPy (detected version 1.26.0\n",
      "  warnings.warn(f\"A NumPy version >={np_minversion} and <{np_maxversion}\"\n"
     ]
    }
   ],
   "source": [
    "import numpy as np\n",
    "import pandas as pd\n",
    "import matplotlib.pyplot as plt\n",
    "import seaborn as sbn"
   ]
  },
  {
   "cell_type": "code",
   "execution_count": 4,
   "id": "41a9e51a",
   "metadata": {},
   "outputs": [],
   "source": [
    "dataFrame = pd.read_excel(\"merc.xlsx\")"
   ]
  },
  {
   "cell_type": "code",
   "execution_count": 5,
   "id": "97e6a1e5",
   "metadata": {},
   "outputs": [
    {
     "data": {
      "text/html": [
       "<div>\n",
       "<style scoped>\n",
       "    .dataframe tbody tr th:only-of-type {\n",
       "        vertical-align: middle;\n",
       "    }\n",
       "\n",
       "    .dataframe tbody tr th {\n",
       "        vertical-align: top;\n",
       "    }\n",
       "\n",
       "    .dataframe thead th {\n",
       "        text-align: right;\n",
       "    }\n",
       "</style>\n",
       "<table border=\"1\" class=\"dataframe\">\n",
       "  <thead>\n",
       "    <tr style=\"text-align: right;\">\n",
       "      <th></th>\n",
       "      <th>year</th>\n",
       "      <th>price</th>\n",
       "      <th>transmission</th>\n",
       "      <th>mileage</th>\n",
       "      <th>tax</th>\n",
       "      <th>mpg</th>\n",
       "      <th>engineSize</th>\n",
       "    </tr>\n",
       "  </thead>\n",
       "  <tbody>\n",
       "    <tr>\n",
       "      <th>0</th>\n",
       "      <td>2005</td>\n",
       "      <td>5200</td>\n",
       "      <td>Automatic</td>\n",
       "      <td>63000</td>\n",
       "      <td>325</td>\n",
       "      <td>32.1</td>\n",
       "      <td>1.8</td>\n",
       "    </tr>\n",
       "    <tr>\n",
       "      <th>1</th>\n",
       "      <td>2017</td>\n",
       "      <td>34948</td>\n",
       "      <td>Automatic</td>\n",
       "      <td>27000</td>\n",
       "      <td>20</td>\n",
       "      <td>61.4</td>\n",
       "      <td>2.1</td>\n",
       "    </tr>\n",
       "    <tr>\n",
       "      <th>2</th>\n",
       "      <td>2016</td>\n",
       "      <td>49948</td>\n",
       "      <td>Automatic</td>\n",
       "      <td>6200</td>\n",
       "      <td>555</td>\n",
       "      <td>28.0</td>\n",
       "      <td>5.5</td>\n",
       "    </tr>\n",
       "    <tr>\n",
       "      <th>3</th>\n",
       "      <td>2016</td>\n",
       "      <td>61948</td>\n",
       "      <td>Automatic</td>\n",
       "      <td>16000</td>\n",
       "      <td>325</td>\n",
       "      <td>30.4</td>\n",
       "      <td>4.0</td>\n",
       "    </tr>\n",
       "    <tr>\n",
       "      <th>4</th>\n",
       "      <td>2016</td>\n",
       "      <td>73948</td>\n",
       "      <td>Automatic</td>\n",
       "      <td>4000</td>\n",
       "      <td>325</td>\n",
       "      <td>30.1</td>\n",
       "      <td>4.0</td>\n",
       "    </tr>\n",
       "    <tr>\n",
       "      <th>...</th>\n",
       "      <td>...</td>\n",
       "      <td>...</td>\n",
       "      <td>...</td>\n",
       "      <td>...</td>\n",
       "      <td>...</td>\n",
       "      <td>...</td>\n",
       "      <td>...</td>\n",
       "    </tr>\n",
       "    <tr>\n",
       "      <th>13114</th>\n",
       "      <td>2020</td>\n",
       "      <td>35999</td>\n",
       "      <td>Automatic</td>\n",
       "      <td>500</td>\n",
       "      <td>145</td>\n",
       "      <td>55.4</td>\n",
       "      <td>2.0</td>\n",
       "    </tr>\n",
       "    <tr>\n",
       "      <th>13115</th>\n",
       "      <td>2020</td>\n",
       "      <td>24699</td>\n",
       "      <td>Automatic</td>\n",
       "      <td>2500</td>\n",
       "      <td>145</td>\n",
       "      <td>55.4</td>\n",
       "      <td>2.0</td>\n",
       "    </tr>\n",
       "    <tr>\n",
       "      <th>13116</th>\n",
       "      <td>2019</td>\n",
       "      <td>30999</td>\n",
       "      <td>Automatic</td>\n",
       "      <td>11612</td>\n",
       "      <td>145</td>\n",
       "      <td>41.5</td>\n",
       "      <td>2.1</td>\n",
       "    </tr>\n",
       "    <tr>\n",
       "      <th>13117</th>\n",
       "      <td>2019</td>\n",
       "      <td>37990</td>\n",
       "      <td>Automatic</td>\n",
       "      <td>2426</td>\n",
       "      <td>145</td>\n",
       "      <td>45.6</td>\n",
       "      <td>2.0</td>\n",
       "    </tr>\n",
       "    <tr>\n",
       "      <th>13118</th>\n",
       "      <td>2019</td>\n",
       "      <td>54999</td>\n",
       "      <td>Automatic</td>\n",
       "      <td>2075</td>\n",
       "      <td>145</td>\n",
       "      <td>52.3</td>\n",
       "      <td>2.9</td>\n",
       "    </tr>\n",
       "  </tbody>\n",
       "</table>\n",
       "<p>13119 rows × 7 columns</p>\n",
       "</div>"
      ],
      "text/plain": [
       "       year  price transmission  mileage  tax   mpg  engineSize\n",
       "0      2005   5200    Automatic    63000  325  32.1         1.8\n",
       "1      2017  34948    Automatic    27000   20  61.4         2.1\n",
       "2      2016  49948    Automatic     6200  555  28.0         5.5\n",
       "3      2016  61948    Automatic    16000  325  30.4         4.0\n",
       "4      2016  73948    Automatic     4000  325  30.1         4.0\n",
       "...     ...    ...          ...      ...  ...   ...         ...\n",
       "13114  2020  35999    Automatic      500  145  55.4         2.0\n",
       "13115  2020  24699    Automatic     2500  145  55.4         2.0\n",
       "13116  2019  30999    Automatic    11612  145  41.5         2.1\n",
       "13117  2019  37990    Automatic     2426  145  45.6         2.0\n",
       "13118  2019  54999    Automatic     2075  145  52.3         2.9\n",
       "\n",
       "[13119 rows x 7 columns]"
      ]
     },
     "execution_count": 5,
     "metadata": {},
     "output_type": "execute_result"
    }
   ],
   "source": [
    "dataFrame"
   ]
  },
  {
   "cell_type": "code",
   "execution_count": 6,
   "id": "205abf3e",
   "metadata": {},
   "outputs": [
    {
     "data": {
      "text/html": [
       "<div>\n",
       "<style scoped>\n",
       "    .dataframe tbody tr th:only-of-type {\n",
       "        vertical-align: middle;\n",
       "    }\n",
       "\n",
       "    .dataframe tbody tr th {\n",
       "        vertical-align: top;\n",
       "    }\n",
       "\n",
       "    .dataframe thead th {\n",
       "        text-align: right;\n",
       "    }\n",
       "</style>\n",
       "<table border=\"1\" class=\"dataframe\">\n",
       "  <thead>\n",
       "    <tr style=\"text-align: right;\">\n",
       "      <th></th>\n",
       "      <th>year</th>\n",
       "      <th>price</th>\n",
       "      <th>mileage</th>\n",
       "      <th>tax</th>\n",
       "      <th>mpg</th>\n",
       "      <th>engineSize</th>\n",
       "    </tr>\n",
       "  </thead>\n",
       "  <tbody>\n",
       "    <tr>\n",
       "      <th>count</th>\n",
       "      <td>13119.000000</td>\n",
       "      <td>13119.000000</td>\n",
       "      <td>13119.000000</td>\n",
       "      <td>13119.000000</td>\n",
       "      <td>13119.000000</td>\n",
       "      <td>13119.000000</td>\n",
       "    </tr>\n",
       "    <tr>\n",
       "      <th>mean</th>\n",
       "      <td>2017.296288</td>\n",
       "      <td>24698.596920</td>\n",
       "      <td>21949.559037</td>\n",
       "      <td>129.972178</td>\n",
       "      <td>55.155843</td>\n",
       "      <td>2.071530</td>\n",
       "    </tr>\n",
       "    <tr>\n",
       "      <th>std</th>\n",
       "      <td>2.224709</td>\n",
       "      <td>11842.675542</td>\n",
       "      <td>21176.512267</td>\n",
       "      <td>65.260286</td>\n",
       "      <td>15.220082</td>\n",
       "      <td>0.572426</td>\n",
       "    </tr>\n",
       "    <tr>\n",
       "      <th>min</th>\n",
       "      <td>1970.000000</td>\n",
       "      <td>650.000000</td>\n",
       "      <td>1.000000</td>\n",
       "      <td>0.000000</td>\n",
       "      <td>1.100000</td>\n",
       "      <td>0.000000</td>\n",
       "    </tr>\n",
       "    <tr>\n",
       "      <th>25%</th>\n",
       "      <td>2016.000000</td>\n",
       "      <td>17450.000000</td>\n",
       "      <td>6097.500000</td>\n",
       "      <td>125.000000</td>\n",
       "      <td>45.600000</td>\n",
       "      <td>1.800000</td>\n",
       "    </tr>\n",
       "    <tr>\n",
       "      <th>50%</th>\n",
       "      <td>2018.000000</td>\n",
       "      <td>22480.000000</td>\n",
       "      <td>15189.000000</td>\n",
       "      <td>145.000000</td>\n",
       "      <td>56.500000</td>\n",
       "      <td>2.000000</td>\n",
       "    </tr>\n",
       "    <tr>\n",
       "      <th>75%</th>\n",
       "      <td>2019.000000</td>\n",
       "      <td>28980.000000</td>\n",
       "      <td>31779.500000</td>\n",
       "      <td>145.000000</td>\n",
       "      <td>64.200000</td>\n",
       "      <td>2.100000</td>\n",
       "    </tr>\n",
       "    <tr>\n",
       "      <th>max</th>\n",
       "      <td>2020.000000</td>\n",
       "      <td>159999.000000</td>\n",
       "      <td>259000.000000</td>\n",
       "      <td>580.000000</td>\n",
       "      <td>217.300000</td>\n",
       "      <td>6.200000</td>\n",
       "    </tr>\n",
       "  </tbody>\n",
       "</table>\n",
       "</div>"
      ],
      "text/plain": [
       "               year          price        mileage           tax           mpg  \\\n",
       "count  13119.000000   13119.000000   13119.000000  13119.000000  13119.000000   \n",
       "mean    2017.296288   24698.596920   21949.559037    129.972178     55.155843   \n",
       "std        2.224709   11842.675542   21176.512267     65.260286     15.220082   \n",
       "min     1970.000000     650.000000       1.000000      0.000000      1.100000   \n",
       "25%     2016.000000   17450.000000    6097.500000    125.000000     45.600000   \n",
       "50%     2018.000000   22480.000000   15189.000000    145.000000     56.500000   \n",
       "75%     2019.000000   28980.000000   31779.500000    145.000000     64.200000   \n",
       "max     2020.000000  159999.000000  259000.000000    580.000000    217.300000   \n",
       "\n",
       "         engineSize  \n",
       "count  13119.000000  \n",
       "mean       2.071530  \n",
       "std        0.572426  \n",
       "min        0.000000  \n",
       "25%        1.800000  \n",
       "50%        2.000000  \n",
       "75%        2.100000  \n",
       "max        6.200000  "
      ]
     },
     "execution_count": 6,
     "metadata": {},
     "output_type": "execute_result"
    }
   ],
   "source": [
    "dataFrame.describe()"
   ]
  },
  {
   "cell_type": "code",
   "execution_count": 7,
   "id": "3cc9c269",
   "metadata": {},
   "outputs": [
    {
     "data": {
      "text/plain": [
       "year            0\n",
       "price           0\n",
       "transmission    0\n",
       "mileage         0\n",
       "tax             0\n",
       "mpg             0\n",
       "engineSize      0\n",
       "dtype: int64"
      ]
     },
     "execution_count": 7,
     "metadata": {},
     "output_type": "execute_result"
    }
   ],
   "source": [
    "dataFrame.isnull().sum()"
   ]
  },
  {
   "cell_type": "code",
   "execution_count": 8,
   "id": "f3c3502b",
   "metadata": {},
   "outputs": [
    {
     "name": "stderr",
     "output_type": "stream",
     "text": [
      "/Users/ikbalkavak/opt/anaconda3/lib/python3.9/site-packages/seaborn/axisgrid.py:118: UserWarning: The figure layout has changed to tight\n",
      "  self._figure.tight_layout(*args, **kwargs)\n"
     ]
    },
    {
     "data": {
      "text/plain": [
       "<seaborn.axisgrid.FacetGrid at 0x7f7eb59956d0>"
      ]
     },
     "execution_count": 8,
     "metadata": {},
     "output_type": "execute_result"
    },
    {
     "data": {
      "text/plain": [
       "<Figure size 700x500 with 0 Axes>"
      ]
     },
     "metadata": {},
     "output_type": "display_data"
    },
    {
     "data": {
      "image/png": "[encoded data removed]",
      "text/plain": [
       "<Figure size 500x500 with 1 Axes>"
      ]
     },
     "metadata": {},
     "output_type": "display_data"
    }
   ],
   "source": [
    "plt.figure(figsize=(7,5))\n",
    "sbn.displot(dataFrame[\"price\"])"
   ]
  },
  {
   "cell_type": "code",
   "execution_count": 9,
   "id": "d7bd4334",
   "metadata": {},
   "outputs": [
    {
     "name": "stderr",
     "output_type": "stream",
     "text": [
      "/Users/ikbalkavak/opt/anaconda3/lib/python3.9/site-packages/seaborn/axisgrid.py:118: UserWarning: The figure layout has changed to tight\n",
      "  self._figure.tight_layout(*args, **kwargs)\n"
     ]
    },
    {
     "data": {
      "text/plain": [
       "<seaborn.axisgrid.FacetGrid at 0x7f7eb590a0d0>"
      ]
     },
     "execution_count": 9,
     "metadata": {},
     "output_type": "execute_result"
    },
    {
     "data": {
      "image/png": "[encoded data removed]",
      "text/plain": [
       "<Figure size 500x500 with 1 Axes>"
      ]
     },
     "metadata": {},
     "output_type": "display_data"
    }
   ],
   "source": [
    "sbn.catplot(dataFrame, x=\"year\", kind=\"count\")"
   ]
  },
  {
   "cell_type": "code",
   "execution_count": 10,
   "id": "0be9f4a2",
   "metadata": {},
   "outputs": [
    {
     "data": {
      "text/html": [
       "<div>\n",
       "<style scoped>\n",
       "    .dataframe tbody tr th:only-of-type {\n",
       "        vertical-align: middle;\n",
       "    }\n",
       "\n",
       "    .dataframe tbody tr th {\n",
       "        vertical-align: top;\n",
       "    }\n",
       "\n",
       "    .dataframe thead th {\n",
       "        text-align: right;\n",
       "    }\n",
       "</style>\n",
       "<table border=\"1\" class=\"dataframe\">\n",
       "  <thead>\n",
       "    <tr style=\"text-align: right;\">\n",
       "      <th></th>\n",
       "      <th>year</th>\n",
       "      <th>price</th>\n",
       "      <th>mileage</th>\n",
       "      <th>tax</th>\n",
       "      <th>mpg</th>\n",
       "      <th>engineSize</th>\n",
       "    </tr>\n",
       "  </thead>\n",
       "  <tbody>\n",
       "    <tr>\n",
       "      <th>year</th>\n",
       "      <td>1.000000</td>\n",
       "      <td>0.520712</td>\n",
       "      <td>-0.738027</td>\n",
       "      <td>0.012480</td>\n",
       "      <td>-0.094626</td>\n",
       "      <td>-0.142147</td>\n",
       "    </tr>\n",
       "    <tr>\n",
       "      <th>price</th>\n",
       "      <td>0.520712</td>\n",
       "      <td>1.000000</td>\n",
       "      <td>-0.537214</td>\n",
       "      <td>0.268717</td>\n",
       "      <td>-0.438445</td>\n",
       "      <td>0.516126</td>\n",
       "    </tr>\n",
       "    <tr>\n",
       "      <th>mileage</th>\n",
       "      <td>-0.738027</td>\n",
       "      <td>-0.537214</td>\n",
       "      <td>1.000000</td>\n",
       "      <td>-0.160223</td>\n",
       "      <td>0.202850</td>\n",
       "      <td>0.063652</td>\n",
       "    </tr>\n",
       "    <tr>\n",
       "      <th>tax</th>\n",
       "      <td>0.012480</td>\n",
       "      <td>0.268717</td>\n",
       "      <td>-0.160223</td>\n",
       "      <td>1.000000</td>\n",
       "      <td>-0.513742</td>\n",
       "      <td>0.338341</td>\n",
       "    </tr>\n",
       "    <tr>\n",
       "      <th>mpg</th>\n",
       "      <td>-0.094626</td>\n",
       "      <td>-0.438445</td>\n",
       "      <td>0.202850</td>\n",
       "      <td>-0.513742</td>\n",
       "      <td>1.000000</td>\n",
       "      <td>-0.339862</td>\n",
       "    </tr>\n",
       "    <tr>\n",
       "      <th>engineSize</th>\n",
       "      <td>-0.142147</td>\n",
       "      <td>0.516126</td>\n",
       "      <td>0.063652</td>\n",
       "      <td>0.338341</td>\n",
       "      <td>-0.339862</td>\n",
       "      <td>1.000000</td>\n",
       "    </tr>\n",
       "  </tbody>\n",
       "</table>\n",
       "</div>"
      ],
      "text/plain": [
       "                year     price   mileage       tax       mpg  engineSize\n",
       "year        1.000000  0.520712 -0.738027  0.012480 -0.094626   -0.142147\n",
       "price       0.520712  1.000000 -0.537214  0.268717 -0.438445    0.516126\n",
       "mileage    -0.738027 -0.537214  1.000000 -0.160223  0.202850    0.063652\n",
       "tax         0.012480  0.268717 -0.160223  1.000000 -0.513742    0.338341\n",
       "mpg        -0.094626 -0.438445  0.202850 -0.513742  1.000000   -0.339862\n",
       "engineSize -0.142147  0.516126  0.063652  0.338341 -0.339862    1.000000"
      ]
     },
     "execution_count": 10,
     "metadata": {},
     "output_type": "execute_result"
    }
   ],
   "source": [
    "dataFrame.corr( numeric_only=True)"
   ]
  },
  {
   "cell_type": "code",
   "execution_count": 11,
   "id": "79549569",
   "metadata": {},
   "outputs": [
    {
     "data": {
      "text/plain": [
       "mileage      -0.537214\n",
       "mpg          -0.438445\n",
       "tax           0.268717\n",
       "engineSize    0.516126\n",
       "year          0.520712\n",
       "price         1.000000\n",
       "Name: price, dtype: float64"
      ]
     },
     "execution_count": 11,
     "metadata": {},
     "output_type": "execute_result"
    }
   ],
   "source": [
    "dataFrame.corr(numeric_only=True)[\"price\"].sort_values()"
   ]
  },
  {
   "cell_type": "code",
   "execution_count": 12,
   "id": "393837ca",
   "metadata": {},
   "outputs": [
    {
     "data": {
      "text/plain": [
       "<Axes: xlabel='mileage', ylabel='price'>"
      ]
     },
     "execution_count": 12,
     "metadata": {},
     "output_type": "execute_result"
    },
    {
     "data": {
      "image/png": "[encoded data removed]",
      "text/plain": [
       "<Figure size 640x480 with 1 Axes>"
      ]
     },
     "metadata": {},
     "output_type": "display_data"
    }
   ],
   "source": [
    "sbn.scatterplot(x=\"mileage\",y=\"price\", data=dataFrame)"
   ]
  },
  {
   "cell_type": "code",
   "execution_count": 13,
   "id": "8f984fd6",
   "metadata": {},
   "outputs": [
    {
     "data": {
      "text/html": [
       "<div>\n",
       "<style scoped>\n",
       "    .dataframe tbody tr th:only-of-type {\n",
       "        vertical-align: middle;\n",
       "    }\n",
       "\n",
       "    .dataframe tbody tr th {\n",
       "        vertical-align: top;\n",
       "    }\n",
       "\n",
       "    .dataframe thead th {\n",
       "        text-align: right;\n",
       "    }\n",
       "</style>\n",
       "<table border=\"1\" class=\"dataframe\">\n",
       "  <thead>\n",
       "    <tr style=\"text-align: right;\">\n",
       "      <th></th>\n",
       "      <th>year</th>\n",
       "      <th>price</th>\n",
       "      <th>transmission</th>\n",
       "      <th>mileage</th>\n",
       "      <th>tax</th>\n",
       "      <th>mpg</th>\n",
       "      <th>engineSize</th>\n",
       "    </tr>\n",
       "  </thead>\n",
       "  <tbody>\n",
       "    <tr>\n",
       "      <th>6199</th>\n",
       "      <td>2020</td>\n",
       "      <td>159999</td>\n",
       "      <td>Semi-Auto</td>\n",
       "      <td>1350</td>\n",
       "      <td>145</td>\n",
       "      <td>21.4</td>\n",
       "      <td>4.0</td>\n",
       "    </tr>\n",
       "    <tr>\n",
       "      <th>10044</th>\n",
       "      <td>2020</td>\n",
       "      <td>154998</td>\n",
       "      <td>Automatic</td>\n",
       "      <td>3000</td>\n",
       "      <td>150</td>\n",
       "      <td>21.4</td>\n",
       "      <td>4.0</td>\n",
       "    </tr>\n",
       "    <tr>\n",
       "      <th>5</th>\n",
       "      <td>2011</td>\n",
       "      <td>149948</td>\n",
       "      <td>Automatic</td>\n",
       "      <td>3000</td>\n",
       "      <td>570</td>\n",
       "      <td>21.4</td>\n",
       "      <td>6.2</td>\n",
       "    </tr>\n",
       "    <tr>\n",
       "      <th>8737</th>\n",
       "      <td>2019</td>\n",
       "      <td>140319</td>\n",
       "      <td>Semi-Auto</td>\n",
       "      <td>785</td>\n",
       "      <td>150</td>\n",
       "      <td>22.1</td>\n",
       "      <td>4.0</td>\n",
       "    </tr>\n",
       "    <tr>\n",
       "      <th>6386</th>\n",
       "      <td>2018</td>\n",
       "      <td>139995</td>\n",
       "      <td>Semi-Auto</td>\n",
       "      <td>13046</td>\n",
       "      <td>145</td>\n",
       "      <td>21.4</td>\n",
       "      <td>4.0</td>\n",
       "    </tr>\n",
       "    <tr>\n",
       "      <th>...</th>\n",
       "      <td>...</td>\n",
       "      <td>...</td>\n",
       "      <td>...</td>\n",
       "      <td>...</td>\n",
       "      <td>...</td>\n",
       "      <td>...</td>\n",
       "      <td>...</td>\n",
       "    </tr>\n",
       "    <tr>\n",
       "      <th>11549</th>\n",
       "      <td>2002</td>\n",
       "      <td>1495</td>\n",
       "      <td>Automatic</td>\n",
       "      <td>13800</td>\n",
       "      <td>305</td>\n",
       "      <td>39.8</td>\n",
       "      <td>2.7</td>\n",
       "    </tr>\n",
       "    <tr>\n",
       "      <th>12594</th>\n",
       "      <td>2004</td>\n",
       "      <td>1495</td>\n",
       "      <td>Manual</td>\n",
       "      <td>119000</td>\n",
       "      <td>300</td>\n",
       "      <td>34.5</td>\n",
       "      <td>1.8</td>\n",
       "    </tr>\n",
       "    <tr>\n",
       "      <th>11765</th>\n",
       "      <td>2000</td>\n",
       "      <td>1490</td>\n",
       "      <td>Automatic</td>\n",
       "      <td>87000</td>\n",
       "      <td>265</td>\n",
       "      <td>27.2</td>\n",
       "      <td>3.2</td>\n",
       "    </tr>\n",
       "    <tr>\n",
       "      <th>12008</th>\n",
       "      <td>2010</td>\n",
       "      <td>1350</td>\n",
       "      <td>Manual</td>\n",
       "      <td>116126</td>\n",
       "      <td>145</td>\n",
       "      <td>54.3</td>\n",
       "      <td>2.0</td>\n",
       "    </tr>\n",
       "    <tr>\n",
       "      <th>11816</th>\n",
       "      <td>2003</td>\n",
       "      <td>650</td>\n",
       "      <td>Manual</td>\n",
       "      <td>109090</td>\n",
       "      <td>235</td>\n",
       "      <td>40.0</td>\n",
       "      <td>1.4</td>\n",
       "    </tr>\n",
       "  </tbody>\n",
       "</table>\n",
       "<p>13119 rows × 7 columns</p>\n",
       "</div>"
      ],
      "text/plain": [
       "       year   price transmission  mileage  tax   mpg  engineSize\n",
       "6199   2020  159999    Semi-Auto     1350  145  21.4         4.0\n",
       "10044  2020  154998    Automatic     3000  150  21.4         4.0\n",
       "5      2011  149948    Automatic     3000  570  21.4         6.2\n",
       "8737   2019  140319    Semi-Auto      785  150  22.1         4.0\n",
       "6386   2018  139995    Semi-Auto    13046  145  21.4         4.0\n",
       "...     ...     ...          ...      ...  ...   ...         ...\n",
       "11549  2002    1495    Automatic    13800  305  39.8         2.7\n",
       "12594  2004    1495       Manual   119000  300  34.5         1.8\n",
       "11765  2000    1490    Automatic    87000  265  27.2         3.2\n",
       "12008  2010    1350       Manual   116126  145  54.3         2.0\n",
       "11816  2003     650       Manual   109090  235  40.0         1.4\n",
       "\n",
       "[13119 rows x 7 columns]"
      ]
     },
     "execution_count": 13,
     "metadata": {},
     "output_type": "execute_result"
    }
   ],
   "source": [
    "dataFrame.sort_values(\"price\", ascending=False)"
   ]
  },
  {
   "cell_type": "code",
   "execution_count": 14,
   "id": "28846858",
   "metadata": {},
   "outputs": [
    {
     "data": {
      "text/html": [
       "<div>\n",
       "<style scoped>\n",
       "    .dataframe tbody tr th:only-of-type {\n",
       "        vertical-align: middle;\n",
       "    }\n",
       "\n",
       "    .dataframe tbody tr th {\n",
       "        vertical-align: top;\n",
       "    }\n",
       "\n",
       "    .dataframe thead th {\n",
       "        text-align: right;\n",
       "    }\n",
       "</style>\n",
       "<table border=\"1\" class=\"dataframe\">\n",
       "  <thead>\n",
       "    <tr style=\"text-align: right;\">\n",
       "      <th></th>\n",
       "      <th>year</th>\n",
       "      <th>price</th>\n",
       "      <th>transmission</th>\n",
       "      <th>mileage</th>\n",
       "      <th>tax</th>\n",
       "      <th>mpg</th>\n",
       "      <th>engineSize</th>\n",
       "    </tr>\n",
       "  </thead>\n",
       "  <tbody>\n",
       "    <tr>\n",
       "      <th>11816</th>\n",
       "      <td>2003</td>\n",
       "      <td>650</td>\n",
       "      <td>Manual</td>\n",
       "      <td>109090</td>\n",
       "      <td>235</td>\n",
       "      <td>40.0</td>\n",
       "      <td>1.4</td>\n",
       "    </tr>\n",
       "    <tr>\n",
       "      <th>12008</th>\n",
       "      <td>2010</td>\n",
       "      <td>1350</td>\n",
       "      <td>Manual</td>\n",
       "      <td>116126</td>\n",
       "      <td>145</td>\n",
       "      <td>54.3</td>\n",
       "      <td>2.0</td>\n",
       "    </tr>\n",
       "    <tr>\n",
       "      <th>11765</th>\n",
       "      <td>2000</td>\n",
       "      <td>1490</td>\n",
       "      <td>Automatic</td>\n",
       "      <td>87000</td>\n",
       "      <td>265</td>\n",
       "      <td>27.2</td>\n",
       "      <td>3.2</td>\n",
       "    </tr>\n",
       "    <tr>\n",
       "      <th>11549</th>\n",
       "      <td>2002</td>\n",
       "      <td>1495</td>\n",
       "      <td>Automatic</td>\n",
       "      <td>13800</td>\n",
       "      <td>305</td>\n",
       "      <td>39.8</td>\n",
       "      <td>2.7</td>\n",
       "    </tr>\n",
       "    <tr>\n",
       "      <th>12594</th>\n",
       "      <td>2004</td>\n",
       "      <td>1495</td>\n",
       "      <td>Manual</td>\n",
       "      <td>119000</td>\n",
       "      <td>300</td>\n",
       "      <td>34.5</td>\n",
       "      <td>1.8</td>\n",
       "    </tr>\n",
       "    <tr>\n",
       "      <th>...</th>\n",
       "      <td>...</td>\n",
       "      <td>...</td>\n",
       "      <td>...</td>\n",
       "      <td>...</td>\n",
       "      <td>...</td>\n",
       "      <td>...</td>\n",
       "      <td>...</td>\n",
       "    </tr>\n",
       "    <tr>\n",
       "      <th>6386</th>\n",
       "      <td>2018</td>\n",
       "      <td>139995</td>\n",
       "      <td>Semi-Auto</td>\n",
       "      <td>13046</td>\n",
       "      <td>145</td>\n",
       "      <td>21.4</td>\n",
       "      <td>4.0</td>\n",
       "    </tr>\n",
       "    <tr>\n",
       "      <th>8737</th>\n",
       "      <td>2019</td>\n",
       "      <td>140319</td>\n",
       "      <td>Semi-Auto</td>\n",
       "      <td>785</td>\n",
       "      <td>150</td>\n",
       "      <td>22.1</td>\n",
       "      <td>4.0</td>\n",
       "    </tr>\n",
       "    <tr>\n",
       "      <th>5</th>\n",
       "      <td>2011</td>\n",
       "      <td>149948</td>\n",
       "      <td>Automatic</td>\n",
       "      <td>3000</td>\n",
       "      <td>570</td>\n",
       "      <td>21.4</td>\n",
       "      <td>6.2</td>\n",
       "    </tr>\n",
       "    <tr>\n",
       "      <th>10044</th>\n",
       "      <td>2020</td>\n",
       "      <td>154998</td>\n",
       "      <td>Automatic</td>\n",
       "      <td>3000</td>\n",
       "      <td>150</td>\n",
       "      <td>21.4</td>\n",
       "      <td>4.0</td>\n",
       "    </tr>\n",
       "    <tr>\n",
       "      <th>6199</th>\n",
       "      <td>2020</td>\n",
       "      <td>159999</td>\n",
       "      <td>Semi-Auto</td>\n",
       "      <td>1350</td>\n",
       "      <td>145</td>\n",
       "      <td>21.4</td>\n",
       "      <td>4.0</td>\n",
       "    </tr>\n",
       "  </tbody>\n",
       "</table>\n",
       "<p>13119 rows × 7 columns</p>\n",
       "</div>"
      ],
      "text/plain": [
       "       year   price transmission  mileage  tax   mpg  engineSize\n",
       "11816  2003     650       Manual   109090  235  40.0         1.4\n",
       "12008  2010    1350       Manual   116126  145  54.3         2.0\n",
       "11765  2000    1490    Automatic    87000  265  27.2         3.2\n",
       "11549  2002    1495    Automatic    13800  305  39.8         2.7\n",
       "12594  2004    1495       Manual   119000  300  34.5         1.8\n",
       "...     ...     ...          ...      ...  ...   ...         ...\n",
       "6386   2018  139995    Semi-Auto    13046  145  21.4         4.0\n",
       "8737   2019  140319    Semi-Auto      785  150  22.1         4.0\n",
       "5      2011  149948    Automatic     3000  570  21.4         6.2\n",
       "10044  2020  154998    Automatic     3000  150  21.4         4.0\n",
       "6199   2020  159999    Semi-Auto     1350  145  21.4         4.0\n",
       "\n",
       "[13119 rows x 7 columns]"
      ]
     },
     "execution_count": 14,
     "metadata": {},
     "output_type": "execute_result"
    }
   ],
   "source": [
    "dataFrame.sort_values(\"price\", ascending=True)"
   ]
  },
  {
   "cell_type": "code",
   "execution_count": 15,
   "id": "5c90adf6",
   "metadata": {},
   "outputs": [
    {
     "data": {
      "text/plain": [
       "13119"
      ]
     },
     "execution_count": 15,
     "metadata": {},
     "output_type": "execute_result"
    }
   ],
   "source": [
    "len(dataFrame)"
   ]
  },
  {
   "cell_type": "code",
   "execution_count": 16,
   "id": "a8471490",
   "metadata": {},
   "outputs": [
    {
     "data": {
      "text/plain": [
       "131.19"
      ]
     },
     "execution_count": 16,
     "metadata": {},
     "output_type": "execute_result"
    }
   ],
   "source": [
    "len(dataFrame)*0.01\n"
   ]
  },
  {
   "cell_type": "code",
   "execution_count": 17,
   "id": "ea03b91f",
   "metadata": {},
   "outputs": [],
   "source": [
    "yuzdeDd= dataFrame.sort_values(\"price\",ascending= False).iloc[131:]"
   ]
  },
  {
   "cell_type": "code",
   "execution_count": 18,
   "id": "64d7d9af",
   "metadata": {},
   "outputs": [
    {
     "data": {
      "text/html": [
       "<div>\n",
       "<style scoped>\n",
       "    .dataframe tbody tr th:only-of-type {\n",
       "        vertical-align: middle;\n",
       "    }\n",
       "\n",
       "    .dataframe tbody tr th {\n",
       "        vertical-align: top;\n",
       "    }\n",
       "\n",
       "    .dataframe thead th {\n",
       "        text-align: right;\n",
       "    }\n",
       "</style>\n",
       "<table border=\"1\" class=\"dataframe\">\n",
       "  <thead>\n",
       "    <tr style=\"text-align: right;\">\n",
       "      <th></th>\n",
       "      <th>year</th>\n",
       "      <th>price</th>\n",
       "      <th>mileage</th>\n",
       "      <th>tax</th>\n",
       "      <th>mpg</th>\n",
       "      <th>engineSize</th>\n",
       "    </tr>\n",
       "  </thead>\n",
       "  <tbody>\n",
       "    <tr>\n",
       "      <th>count</th>\n",
       "      <td>12988.000000</td>\n",
       "      <td>12988.000000</td>\n",
       "      <td>12988.000000</td>\n",
       "      <td>12988.000000</td>\n",
       "      <td>12988.000000</td>\n",
       "      <td>12988.000000</td>\n",
       "    </tr>\n",
       "    <tr>\n",
       "      <th>mean</th>\n",
       "      <td>2017.281876</td>\n",
       "      <td>24074.926933</td>\n",
       "      <td>22132.741146</td>\n",
       "      <td>129.689714</td>\n",
       "      <td>55.437142</td>\n",
       "      <td>2.050901</td>\n",
       "    </tr>\n",
       "    <tr>\n",
       "      <th>std</th>\n",
       "      <td>2.228515</td>\n",
       "      <td>9866.224575</td>\n",
       "      <td>21196.776401</td>\n",
       "      <td>65.183076</td>\n",
       "      <td>15.025999</td>\n",
       "      <td>0.532596</td>\n",
       "    </tr>\n",
       "    <tr>\n",
       "      <th>min</th>\n",
       "      <td>1970.000000</td>\n",
       "      <td>650.000000</td>\n",
       "      <td>1.000000</td>\n",
       "      <td>0.000000</td>\n",
       "      <td>1.100000</td>\n",
       "      <td>0.000000</td>\n",
       "    </tr>\n",
       "    <tr>\n",
       "      <th>25%</th>\n",
       "      <td>2016.000000</td>\n",
       "      <td>17357.500000</td>\n",
       "      <td>6322.000000</td>\n",
       "      <td>125.000000</td>\n",
       "      <td>45.600000</td>\n",
       "      <td>1.675000</td>\n",
       "    </tr>\n",
       "    <tr>\n",
       "      <th>50%</th>\n",
       "      <td>2018.000000</td>\n",
       "      <td>22299.000000</td>\n",
       "      <td>15369.500000</td>\n",
       "      <td>145.000000</td>\n",
       "      <td>56.500000</td>\n",
       "      <td>2.000000</td>\n",
       "    </tr>\n",
       "    <tr>\n",
       "      <th>75%</th>\n",
       "      <td>2019.000000</td>\n",
       "      <td>28706.000000</td>\n",
       "      <td>31982.250000</td>\n",
       "      <td>145.000000</td>\n",
       "      <td>64.200000</td>\n",
       "      <td>2.100000</td>\n",
       "    </tr>\n",
       "    <tr>\n",
       "      <th>max</th>\n",
       "      <td>2020.000000</td>\n",
       "      <td>65990.000000</td>\n",
       "      <td>259000.000000</td>\n",
       "      <td>580.000000</td>\n",
       "      <td>217.300000</td>\n",
       "      <td>6.200000</td>\n",
       "    </tr>\n",
       "  </tbody>\n",
       "</table>\n",
       "</div>"
      ],
      "text/plain": [
       "               year         price        mileage           tax           mpg  \\\n",
       "count  12988.000000  12988.000000   12988.000000  12988.000000  12988.000000   \n",
       "mean    2017.281876  24074.926933   22132.741146    129.689714     55.437142   \n",
       "std        2.228515   9866.224575   21196.776401     65.183076     15.025999   \n",
       "min     1970.000000    650.000000       1.000000      0.000000      1.100000   \n",
       "25%     2016.000000  17357.500000    6322.000000    125.000000     45.600000   \n",
       "50%     2018.000000  22299.000000   15369.500000    145.000000     56.500000   \n",
       "75%     2019.000000  28706.000000   31982.250000    145.000000     64.200000   \n",
       "max     2020.000000  65990.000000  259000.000000    580.000000    217.300000   \n",
       "\n",
       "         engineSize  \n",
       "count  12988.000000  \n",
       "mean       2.050901  \n",
       "std        0.532596  \n",
       "min        0.000000  \n",
       "25%        1.675000  \n",
       "50%        2.000000  \n",
       "75%        2.100000  \n",
       "max        6.200000  "
      ]
     },
     "execution_count": 18,
     "metadata": {},
     "output_type": "execute_result"
    }
   ],
   "source": [
    "yuzdeDd.describe()"
   ]
  },
  {
   "cell_type": "code",
   "execution_count": 19,
   "id": "a2d043d7",
   "metadata": {},
   "outputs": [
    {
     "name": "stderr",
     "output_type": "stream",
     "text": [
      "/Users/ikbalkavak/opt/anaconda3/lib/python3.9/site-packages/seaborn/axisgrid.py:118: UserWarning: The figure layout has changed to tight\n",
      "  self._figure.tight_layout(*args, **kwargs)\n"
     ]
    },
    {
     "data": {
      "text/plain": [
       "<seaborn.axisgrid.FacetGrid at 0x7f7eb6193730>"
      ]
     },
     "execution_count": 19,
     "metadata": {},
     "output_type": "execute_result"
    },
    {
     "data": {
      "text/plain": [
       "<Figure size 700x500 with 0 Axes>"
      ]
     },
     "metadata": {},
     "output_type": "display_data"
    },
    {
     "data": {
      "image/png": "[encoded data removed]",
      "text/plain": [
       "<Figure size 500x500 with 1 Axes>"
      ]
     },
     "metadata": {},
     "output_type": "display_data"
    }
   ],
   "source": [
    "plt.figure(figsize=(7,5))\n",
    "sbn.displot(yuzdeDd[\"price\"])"
   ]
  },
  {
   "cell_type": "code",
   "execution_count": 20,
   "id": "259e56f0",
   "metadata": {},
   "outputs": [
    {
     "data": {
      "text/plain": [
       "year\n",
       "1970    24999.000000\n",
       "1997     9995.000000\n",
       "1998     8605.000000\n",
       "1999     5995.000000\n",
       "2000     5743.333333\n",
       "2001     4957.900000\n",
       "2002     5820.444444\n",
       "2003     4878.000000\n",
       "2004     4727.615385\n",
       "2005     4426.111111\n",
       "2006     4036.875000\n",
       "2007     5136.045455\n",
       "2008     6967.437500\n",
       "2009     6166.764706\n",
       "2010     8308.473684\n",
       "2011    12624.894737\n",
       "2012    10845.140351\n",
       "2013    11939.842466\n",
       "2014    14042.936864\n",
       "2015    16731.780020\n",
       "2016    19307.892948\n",
       "2017    21514.307854\n",
       "2018    25720.162918\n",
       "2019    31290.020865\n",
       "2020    35433.282337\n",
       "Name: price, dtype: float64"
      ]
     },
     "execution_count": 20,
     "metadata": {},
     "output_type": "execute_result"
    }
   ],
   "source": [
    "dataFrame.groupby(\"year\").mean(numeric_only=True)[\"price\"]"
   ]
  },
  {
   "cell_type": "code",
   "execution_count": 21,
   "id": "cd92c2c5",
   "metadata": {},
   "outputs": [
    {
     "data": {
      "text/plain": [
       "year\n",
       "1970    24999.000000\n",
       "1997     9995.000000\n",
       "1998     8605.000000\n",
       "1999     5995.000000\n",
       "2000     5743.333333\n",
       "2001     4957.900000\n",
       "2002     5820.444444\n",
       "2003     4878.000000\n",
       "2004     4727.615385\n",
       "2005     4426.111111\n",
       "2006     4036.875000\n",
       "2007     5136.045455\n",
       "2008     6967.437500\n",
       "2009     6166.764706\n",
       "2010     8308.473684\n",
       "2011     8913.459459\n",
       "2012    10845.140351\n",
       "2013    11939.842466\n",
       "2014    14042.936864\n",
       "2015    16647.822222\n",
       "2016    19223.558943\n",
       "2017    21356.280421\n",
       "2018    24800.844506\n",
       "2019    30289.524832\n",
       "2020    34234.794872\n",
       "Name: price, dtype: float64"
      ]
     },
     "execution_count": 21,
     "metadata": {},
     "output_type": "execute_result"
    }
   ],
   "source": [
    "yuzdeDd.groupby(\"year\").mean(numeric_only=True)[\"price\"]"
   ]
  },
  {
   "cell_type": "code",
   "execution_count": 22,
   "id": "142e01ab",
   "metadata": {},
   "outputs": [
    {
     "data": {
      "text/plain": [
       "year\n",
       "1997     9995.000000\n",
       "1998     8605.000000\n",
       "1999     5995.000000\n",
       "2000     5743.333333\n",
       "2001     4957.900000\n",
       "2002     5820.444444\n",
       "2003     4878.000000\n",
       "2004     4727.615385\n",
       "2005     4426.111111\n",
       "2006     4036.875000\n",
       "2007     5136.045455\n",
       "2008     6967.437500\n",
       "2009     6166.764706\n",
       "2010     8308.473684\n",
       "2011    12624.894737\n",
       "2012    10845.140351\n",
       "2013    11939.842466\n",
       "2014    14042.936864\n",
       "2015    16731.780020\n",
       "2016    19307.892948\n",
       "2017    21514.307854\n",
       "2018    25720.162918\n",
       "2019    31290.020865\n",
       "2020    35433.282337\n",
       "Name: price, dtype: float64"
      ]
     },
     "execution_count": 22,
     "metadata": {},
     "output_type": "execute_result"
    }
   ],
   "source": [
    "dataFrame[dataFrame.year !=1970].groupby(\"year\").mean(numeric_only=True)[\"price\"]"
   ]
  },
  {
   "cell_type": "code",
   "execution_count": 23,
   "id": "ad26290c",
   "metadata": {},
   "outputs": [],
   "source": [
    "dataFrame=yuzdeDd"
   ]
  },
  {
   "cell_type": "code",
   "execution_count": 24,
   "id": "8a1d282f",
   "metadata": {},
   "outputs": [
    {
     "data": {
      "text/html": [
       "<div>\n",
       "<style scoped>\n",
       "    .dataframe tbody tr th:only-of-type {\n",
       "        vertical-align: middle;\n",
       "    }\n",
       "\n",
       "    .dataframe tbody tr th {\n",
       "        vertical-align: top;\n",
       "    }\n",
       "\n",
       "    .dataframe thead th {\n",
       "        text-align: right;\n",
       "    }\n",
       "</style>\n",
       "<table border=\"1\" class=\"dataframe\">\n",
       "  <thead>\n",
       "    <tr style=\"text-align: right;\">\n",
       "      <th></th>\n",
       "      <th>year</th>\n",
       "      <th>price</th>\n",
       "      <th>mileage</th>\n",
       "      <th>tax</th>\n",
       "      <th>mpg</th>\n",
       "      <th>engineSize</th>\n",
       "    </tr>\n",
       "  </thead>\n",
       "  <tbody>\n",
       "    <tr>\n",
       "      <th>count</th>\n",
       "      <td>12988.000000</td>\n",
       "      <td>12988.000000</td>\n",
       "      <td>12988.000000</td>\n",
       "      <td>12988.000000</td>\n",
       "      <td>12988.000000</td>\n",
       "      <td>12988.000000</td>\n",
       "    </tr>\n",
       "    <tr>\n",
       "      <th>mean</th>\n",
       "      <td>2017.281876</td>\n",
       "      <td>24074.926933</td>\n",
       "      <td>22132.741146</td>\n",
       "      <td>129.689714</td>\n",
       "      <td>55.437142</td>\n",
       "      <td>2.050901</td>\n",
       "    </tr>\n",
       "    <tr>\n",
       "      <th>std</th>\n",
       "      <td>2.228515</td>\n",
       "      <td>9866.224575</td>\n",
       "      <td>21196.776401</td>\n",
       "      <td>65.183076</td>\n",
       "      <td>15.025999</td>\n",
       "      <td>0.532596</td>\n",
       "    </tr>\n",
       "    <tr>\n",
       "      <th>min</th>\n",
       "      <td>1970.000000</td>\n",
       "      <td>650.000000</td>\n",
       "      <td>1.000000</td>\n",
       "      <td>0.000000</td>\n",
       "      <td>1.100000</td>\n",
       "      <td>0.000000</td>\n",
       "    </tr>\n",
       "    <tr>\n",
       "      <th>25%</th>\n",
       "      <td>2016.000000</td>\n",
       "      <td>17357.500000</td>\n",
       "      <td>6322.000000</td>\n",
       "      <td>125.000000</td>\n",
       "      <td>45.600000</td>\n",
       "      <td>1.675000</td>\n",
       "    </tr>\n",
       "    <tr>\n",
       "      <th>50%</th>\n",
       "      <td>2018.000000</td>\n",
       "      <td>22299.000000</td>\n",
       "      <td>15369.500000</td>\n",
       "      <td>145.000000</td>\n",
       "      <td>56.500000</td>\n",
       "      <td>2.000000</td>\n",
       "    </tr>\n",
       "    <tr>\n",
       "      <th>75%</th>\n",
       "      <td>2019.000000</td>\n",
       "      <td>28706.000000</td>\n",
       "      <td>31982.250000</td>\n",
       "      <td>145.000000</td>\n",
       "      <td>64.200000</td>\n",
       "      <td>2.100000</td>\n",
       "    </tr>\n",
       "    <tr>\n",
       "      <th>max</th>\n",
       "      <td>2020.000000</td>\n",
       "      <td>65990.000000</td>\n",
       "      <td>259000.000000</td>\n",
       "      <td>580.000000</td>\n",
       "      <td>217.300000</td>\n",
       "      <td>6.200000</td>\n",
       "    </tr>\n",
       "  </tbody>\n",
       "</table>\n",
       "</div>"
      ],
      "text/plain": [
       "               year         price        mileage           tax           mpg  \\\n",
       "count  12988.000000  12988.000000   12988.000000  12988.000000  12988.000000   \n",
       "mean    2017.281876  24074.926933   22132.741146    129.689714     55.437142   \n",
       "std        2.228515   9866.224575   21196.776401     65.183076     15.025999   \n",
       "min     1970.000000    650.000000       1.000000      0.000000      1.100000   \n",
       "25%     2016.000000  17357.500000    6322.000000    125.000000     45.600000   \n",
       "50%     2018.000000  22299.000000   15369.500000    145.000000     56.500000   \n",
       "75%     2019.000000  28706.000000   31982.250000    145.000000     64.200000   \n",
       "max     2020.000000  65990.000000  259000.000000    580.000000    217.300000   \n",
       "\n",
       "         engineSize  \n",
       "count  12988.000000  \n",
       "mean       2.050901  \n",
       "std        0.532596  \n",
       "min        0.000000  \n",
       "25%        1.675000  \n",
       "50%        2.000000  \n",
       "75%        2.100000  \n",
       "max        6.200000  "
      ]
     },
     "execution_count": 24,
     "metadata": {},
     "output_type": "execute_result"
    }
   ],
   "source": [
    "dataFrame.describe()"
   ]
  },
  {
   "cell_type": "code",
   "execution_count": 25,
   "id": "3cdc530c",
   "metadata": {},
   "outputs": [],
   "source": [
    "dataFrame= dataFrame[dataFrame.year != 1970]"
   ]
  },
  {
   "cell_type": "code",
   "execution_count": 26,
   "id": "6068566c",
   "metadata": {},
   "outputs": [
    {
     "data": {
      "text/plain": [
       "year\n",
       "1997     9995.000000\n",
       "1998     8605.000000\n",
       "1999     5995.000000\n",
       "2000     5743.333333\n",
       "2001     4957.900000\n",
       "2002     5820.444444\n",
       "2003     4878.000000\n",
       "2004     4727.615385\n",
       "2005     4426.111111\n",
       "2006     4036.875000\n",
       "2007     5136.045455\n",
       "2008     6967.437500\n",
       "2009     6166.764706\n",
       "2010     8308.473684\n",
       "2011     8913.459459\n",
       "2012    10845.140351\n",
       "2013    11939.842466\n",
       "2014    14042.936864\n",
       "2015    16647.822222\n",
       "2016    19223.558943\n",
       "2017    21356.280421\n",
       "2018    24800.844506\n",
       "2019    30289.524832\n",
       "2020    34234.794872\n",
       "Name: price, dtype: float64"
      ]
     },
     "execution_count": 26,
     "metadata": {},
     "output_type": "execute_result"
    }
   ],
   "source": [
    "dataFrame.groupby(\"year\").mean(numeric_only=True)[\"price\"]"
   ]
  },
  {
   "cell_type": "code",
   "execution_count": 40,
   "id": "defa1ed8",
   "metadata": {},
   "outputs": [],
   "source": [
    "dataFrame= dataFrame.drop(\"transmission\", axis=1)\n",
    "y= dataFrame[\"price\"].values\n",
    "x= dataFrame.drop(\"price\",axis=1).values"
   ]
  },
  {
   "cell_type": "code",
   "execution_count": 41,
   "id": "357f0a8f",
   "metadata": {},
   "outputs": [
    {
     "data": {
      "text/plain": [
       "array([[2.01900e+03, 5.07600e+03, 1.50000e+02, 3.04000e+01, 3.00000e+00],\n",
       "       [2.02000e+03, 9.99000e+02, 1.45000e+02, 2.80000e+01, 4.00000e+00],\n",
       "       [2.02000e+03, 3.99900e+03, 1.45000e+02, 2.80000e+01, 4.00000e+00],\n",
       "       ...,\n",
       "       [2.00000e+03, 8.70000e+04, 2.65000e+02, 2.72000e+01, 3.20000e+00],\n",
       "       [2.01000e+03, 1.16126e+05, 1.45000e+02, 5.43000e+01, 2.00000e+00],\n",
       "       [2.00300e+03, 1.09090e+05, 2.35000e+02, 4.00000e+01, 1.40000e+00]])"
      ]
     },
     "execution_count": 41,
     "metadata": {},
     "output_type": "execute_result"
    }
   ],
   "source": [
    "x"
   ]
  },
  {
   "cell_type": "code",
   "execution_count": 42,
   "id": "5784333f",
   "metadata": {},
   "outputs": [
    {
     "data": {
      "text/plain": [
       "array([65990, 65990, 65980, ...,  1490,  1350,   650])"
      ]
     },
     "execution_count": 42,
     "metadata": {},
     "output_type": "execute_result"
    }
   ],
   "source": [
    "y"
   ]
  },
  {
   "cell_type": "code",
   "execution_count": 43,
   "id": "43ee7cf3",
   "metadata": {},
   "outputs": [],
   "source": [
    "from sklearn.model_selection import train_test_split"
   ]
  },
  {
   "cell_type": "code",
   "execution_count": 44,
   "id": "7004b60a",
   "metadata": {},
   "outputs": [],
   "source": [
    "x_train, x_test, y_train, y_test= train_test_split(x,y,test_size=0.3,random_state=10)"
   ]
  },
  {
   "cell_type": "code",
   "execution_count": 45,
   "id": "f71497be",
   "metadata": {},
   "outputs": [
    {
     "data": {
      "text/plain": [
       "9090"
      ]
     },
     "execution_count": 45,
     "metadata": {},
     "output_type": "execute_result"
    }
   ],
   "source": [
    "len(x_train)"
   ]
  },
  {
   "cell_type": "code",
   "execution_count": 46,
   "id": "f714de18",
   "metadata": {},
   "outputs": [
    {
     "data": {
      "text/plain": [
       "3897"
      ]
     },
     "execution_count": 46,
     "metadata": {},
     "output_type": "execute_result"
    }
   ],
   "source": [
    "len(x_test)"
   ]
  },
  {
   "cell_type": "code",
   "execution_count": 47,
   "id": "ac9b759b",
   "metadata": {},
   "outputs": [],
   "source": [
    "from sklearn.preprocessing import MinMaxScaler"
   ]
  },
  {
   "cell_type": "code",
   "execution_count": 48,
   "id": "7c29f6cd",
   "metadata": {},
   "outputs": [],
   "source": [
    "scaler= MinMaxScaler()"
   ]
  },
  {
   "cell_type": "code",
   "execution_count": 49,
   "id": "70d27ec6",
   "metadata": {},
   "outputs": [],
   "source": [
    "x_train= scaler.fit_transform(x_train)"
   ]
  },
  {
   "cell_type": "code",
   "execution_count": 50,
   "id": "311d91b6",
   "metadata": {},
   "outputs": [],
   "source": [
    "x_test= scaler.transform(x_test)"
   ]
  },
  {
   "cell_type": "code",
   "execution_count": 51,
   "id": "2480618b",
   "metadata": {},
   "outputs": [
    {
     "name": "stderr",
     "output_type": "stream",
     "text": [
      "2023-10-31 20:25:08.599605: I tensorflow/core/platform/cpu_feature_guard.cc:182] This TensorFlow binary is optimized to use available CPU instructions in performance-critical operations.\n",
      "To enable the following instructions: AVX2 FMA, in other operations, rebuild TensorFlow with the appropriate compiler flags.\n"
     ]
    }
   ],
   "source": [
    "from tensorflow.keras.models import Sequential\n",
    "from tensorflow.keras.layers import Dense"
   ]
  },
  {
   "cell_type": "code",
   "execution_count": 52,
   "id": "44483657",
   "metadata": {},
   "outputs": [
    {
     "data": {
      "text/plain": [
       "(9090, 5)"
      ]
     },
     "execution_count": 52,
     "metadata": {},
     "output_type": "execute_result"
    }
   ],
   "source": [
    "x_train.shape"
   ]
  },
  {
   "cell_type": "code",
   "execution_count": 54,
   "id": "39efec46",
   "metadata": {},
   "outputs": [],
   "source": [
    "model= Sequential()\n",
    "model.add(Dense(12, activation=\"relu\"))\n",
    "model.add(Dense(12, activation=\"relu\"))\n",
    "model.add(Dense(12, activation=\"relu\"))\n",
    "model.add(Dense(12, activation=\"relu\"))\n",
    "model.add(Dense(1))\n",
    "model.compile(optimizer= \"adam\", loss=\"mse\")"
   ]
  },
  {
   "cell_type": "code",
   "execution_count": 55,
   "id": "f1b4aaa9",
   "metadata": {},
   "outputs": [
    {
     "name": "stdout",
     "output_type": "stream",
     "text": [
      "Epoch 1/300\n",
      "37/37 [==============================] - 2s 27ms/step - loss: 672120640.0000 - val_loss: 688058432.0000\n",
      "Epoch 2/300\n",
      "37/37 [==============================] - 0s 4ms/step - loss: 672048576.0000 - val_loss: 687943040.0000\n",
      "Epoch 3/300\n",
      "37/37 [==============================] - 0s 5ms/step - loss: 671859712.0000 - val_loss: 687636608.0000\n",
      "Epoch 4/300\n",
      "37/37 [==============================] - 0s 5ms/step - loss: 671352512.0000 - val_loss: 686809216.0000\n",
      "Epoch 5/300\n",
      "37/37 [==============================] - 0s 4ms/step - loss: 670035328.0000 - val_loss: 684755264.0000\n",
      "Epoch 6/300\n",
      "37/37 [==============================] - 0s 4ms/step - loss: 666951104.0000 - val_loss: 680146368.0000\n",
      "Epoch 7/300\n",
      "37/37 [==============================] - 0s 4ms/step - loss: 660416512.0000 - val_loss: 670906432.0000\n",
      "Epoch 8/300\n",
      "37/37 [==============================] - 0s 4ms/step - loss: 647997376.0000 - val_loss: 654132672.0000\n",
      "Epoch 9/300\n",
      "37/37 [==============================] - 0s 6ms/step - loss: 626534400.0000 - val_loss: 626296192.0000\n",
      "Epoch 10/300\n",
      "37/37 [==============================] - 0s 5ms/step - loss: 592401408.0000 - val_loss: 583739392.0000\n",
      "Epoch 11/300\n",
      "37/37 [==============================] - 0s 5ms/step - loss: 542406272.0000 - val_loss: 523781632.0000\n",
      "Epoch 12/300\n",
      "37/37 [==============================] - 0s 5ms/step - loss: 474982208.0000 - val_loss: 446416608.0000\n",
      "Epoch 13/300\n",
      "37/37 [==============================] - 0s 4ms/step - loss: 392264320.0000 - val_loss: 356154976.0000\n",
      "Epoch 14/300\n",
      "37/37 [==============================] - 0s 5ms/step - loss: 301449664.0000 - val_loss: 263811504.0000\n",
      "Epoch 15/300\n",
      "37/37 [==============================] - 0s 4ms/step - loss: 216068736.0000 - val_loss: 184083856.0000\n",
      "Epoch 16/300\n",
      "37/37 [==============================] - 0s 4ms/step - loss: 150015584.0000 - val_loss: 130203752.0000\n",
      "Epoch 17/300\n",
      "37/37 [==============================] - 0s 4ms/step - loss: 111015808.0000 - val_loss: 102952952.0000\n",
      "Epoch 18/300\n",
      "37/37 [==============================] - 0s 5ms/step - loss: 94591080.0000 - val_loss: 92974504.0000\n",
      "Epoch 19/300\n",
      "37/37 [==============================] - 0s 4ms/step - loss: 89472432.0000 - val_loss: 90188752.0000\n",
      "Epoch 20/300\n",
      "37/37 [==============================] - 0s 4ms/step - loss: 87986456.0000 - val_loss: 89045624.0000\n",
      "Epoch 21/300\n",
      "37/37 [==============================] - 0s 4ms/step - loss: 87265288.0000 - val_loss: 88347232.0000\n",
      "Epoch 22/300\n",
      "37/37 [==============================] - 0s 5ms/step - loss: 86698488.0000 - val_loss: 87790352.0000\n",
      "Epoch 23/300\n",
      "37/37 [==============================] - 0s 5ms/step - loss: 86180912.0000 - val_loss: 87265304.0000\n",
      "Epoch 24/300\n",
      "37/37 [==============================] - 0s 5ms/step - loss: 85680952.0000 - val_loss: 86779408.0000\n",
      "Epoch 25/300\n",
      "37/37 [==============================] - 0s 5ms/step - loss: 85203624.0000 - val_loss: 86329160.0000\n",
      "Epoch 26/300\n",
      "37/37 [==============================] - 0s 5ms/step - loss: 84727792.0000 - val_loss: 85816224.0000\n",
      "Epoch 27/300\n",
      "37/37 [==============================] - 0s 5ms/step - loss: 84255752.0000 - val_loss: 85369600.0000\n",
      "Epoch 28/300\n",
      "37/37 [==============================] - 0s 6ms/step - loss: 83807256.0000 - val_loss: 84939952.0000\n",
      "Epoch 29/300\n",
      "37/37 [==============================] - 0s 6ms/step - loss: 83354680.0000 - val_loss: 84489824.0000\n",
      "Epoch 30/300\n",
      "37/37 [==============================] - 0s 5ms/step - loss: 82912272.0000 - val_loss: 84043384.0000\n",
      "Epoch 31/300\n",
      "37/37 [==============================] - 0s 5ms/step - loss: 82479680.0000 - val_loss: 83631248.0000\n",
      "Epoch 32/300\n",
      "37/37 [==============================] - 0s 5ms/step - loss: 82035208.0000 - val_loss: 83180352.0000\n",
      "Epoch 33/300\n",
      "37/37 [==============================] - 0s 5ms/step - loss: 81607952.0000 - val_loss: 82736728.0000\n",
      "Epoch 34/300\n",
      "37/37 [==============================] - 0s 4ms/step - loss: 81173224.0000 - val_loss: 82329152.0000\n",
      "Epoch 35/300\n",
      "37/37 [==============================] - 0s 5ms/step - loss: 80746824.0000 - val_loss: 81909912.0000\n",
      "Epoch 36/300\n",
      "37/37 [==============================] - 0s 5ms/step - loss: 80334072.0000 - val_loss: 81502552.0000\n",
      "Epoch 37/300\n",
      "37/37 [==============================] - 0s 4ms/step - loss: 79900944.0000 - val_loss: 81073344.0000\n",
      "Epoch 38/300\n",
      "37/37 [==============================] - 0s 4ms/step - loss: 79475544.0000 - val_loss: 80659432.0000\n",
      "Epoch 39/300\n",
      "37/37 [==============================] - 0s 5ms/step - loss: 79059312.0000 - val_loss: 80221096.0000\n",
      "Epoch 40/300\n",
      "37/37 [==============================] - 0s 5ms/step - loss: 78642464.0000 - val_loss: 79845792.0000\n",
      "Epoch 41/300\n",
      "37/37 [==============================] - 0s 5ms/step - loss: 78216296.0000 - val_loss: 79389160.0000\n",
      "Epoch 42/300\n",
      "37/37 [==============================] - 0s 6ms/step - loss: 77799376.0000 - val_loss: 78988616.0000\n",
      "Epoch 43/300\n",
      "37/37 [==============================] - 0s 6ms/step - loss: 77367192.0000 - val_loss: 78566240.0000\n",
      "Epoch 44/300\n",
      "37/37 [==============================] - 0s 5ms/step - loss: 76947352.0000 - val_loss: 78127736.0000\n",
      "Epoch 45/300\n",
      "37/37 [==============================] - 0s 5ms/step - loss: 76524320.0000 - val_loss: 77725176.0000\n",
      "Epoch 46/300\n",
      "37/37 [==============================] - 0s 5ms/step - loss: 76096288.0000 - val_loss: 77293248.0000\n",
      "Epoch 47/300\n",
      "37/37 [==============================] - 0s 5ms/step - loss: 75671080.0000 - val_loss: 76884960.0000\n",
      "Epoch 48/300\n",
      "37/37 [==============================] - 0s 6ms/step - loss: 75253048.0000 - val_loss: 76481032.0000\n",
      "Epoch 49/300\n",
      "37/37 [==============================] - 0s 5ms/step - loss: 74835640.0000 - val_loss: 76054848.0000\n",
      "Epoch 50/300\n",
      "37/37 [==============================] - 0s 5ms/step - loss: 74397536.0000 - val_loss: 75640920.0000\n",
      "Epoch 51/300\n",
      "37/37 [==============================] - 0s 5ms/step - loss: 73965672.0000 - val_loss: 75193600.0000\n",
      "Epoch 52/300\n",
      "37/37 [==============================] - 0s 6ms/step - loss: 73535592.0000 - val_loss: 74774992.0000\n",
      "Epoch 53/300\n",
      "37/37 [==============================] - 0s 4ms/step - loss: 73099776.0000 - val_loss: 74346632.0000\n",
      "Epoch 54/300\n",
      "37/37 [==============================] - 0s 4ms/step - loss: 72672128.0000 - val_loss: 73902176.0000\n",
      "Epoch 55/300\n",
      "37/37 [==============================] - 0s 4ms/step - loss: 72232320.0000 - val_loss: 73483880.0000\n",
      "Epoch 56/300\n",
      "37/37 [==============================] - 0s 4ms/step - loss: 71789376.0000 - val_loss: 73053728.0000\n",
      "Epoch 57/300\n",
      "37/37 [==============================] - 0s 4ms/step - loss: 71354568.0000 - val_loss: 72612672.0000\n",
      "Epoch 58/300\n",
      "37/37 [==============================] - 0s 4ms/step - loss: 70905184.0000 - val_loss: 72148368.0000\n",
      "Epoch 59/300\n",
      "37/37 [==============================] - 0s 4ms/step - loss: 70453160.0000 - val_loss: 71721848.0000\n",
      "Epoch 60/300\n",
      "37/37 [==============================] - 0s 4ms/step - loss: 70011264.0000 - val_loss: 71281592.0000\n",
      "Epoch 61/300\n",
      "37/37 [==============================] - 0s 4ms/step - loss: 69566104.0000 - val_loss: 70829144.0000\n",
      "Epoch 62/300\n",
      "37/37 [==============================] - 0s 4ms/step - loss: 69083000.0000 - val_loss: 70359904.0000\n",
      "Epoch 63/300\n",
      "37/37 [==============================] - 0s 4ms/step - loss: 68636008.0000 - val_loss: 69926352.0000\n",
      "Epoch 64/300\n",
      "37/37 [==============================] - 0s 4ms/step - loss: 68164376.0000 - val_loss: 69423568.0000\n",
      "Epoch 65/300\n",
      "37/37 [==============================] - 0s 6ms/step - loss: 67688536.0000 - val_loss: 68979056.0000\n",
      "Epoch 66/300\n",
      "37/37 [==============================] - 0s 4ms/step - loss: 67221072.0000 - val_loss: 68510576.0000\n",
      "Epoch 67/300\n",
      "37/37 [==============================] - 0s 4ms/step - loss: 66735072.0000 - val_loss: 68046360.0000\n",
      "Epoch 68/300\n",
      "37/37 [==============================] - 0s 4ms/step - loss: 66268640.0000 - val_loss: 67543920.0000\n",
      "Epoch 69/300\n",
      "37/37 [==============================] - 0s 4ms/step - loss: 65777216.0000 - val_loss: 67081732.0000\n",
      "Epoch 70/300\n",
      "37/37 [==============================] - 0s 4ms/step - loss: 65273864.0000 - val_loss: 66562736.0000\n",
      "Epoch 71/300\n",
      "37/37 [==============================] - 0s 4ms/step - loss: 64784348.0000 - val_loss: 66084316.0000\n",
      "Epoch 72/300\n"
     ]
    },
    {
     "name": "stdout",
     "output_type": "stream",
     "text": [
      "37/37 [==============================] - 0s 4ms/step - loss: 64277332.0000 - val_loss: 65611392.0000\n",
      "Epoch 73/300\n",
      "37/37 [==============================] - 0s 4ms/step - loss: 63757812.0000 - val_loss: 65071200.0000\n",
      "Epoch 74/300\n",
      "37/37 [==============================] - 0s 4ms/step - loss: 63249112.0000 - val_loss: 64551360.0000\n",
      "Epoch 75/300\n",
      "37/37 [==============================] - 0s 4ms/step - loss: 62731780.0000 - val_loss: 64035936.0000\n",
      "Epoch 76/300\n",
      "37/37 [==============================] - 0s 4ms/step - loss: 62194644.0000 - val_loss: 63507864.0000\n",
      "Epoch 77/300\n",
      "37/37 [==============================] - 0s 4ms/step - loss: 61678776.0000 - val_loss: 62966196.0000\n",
      "Epoch 78/300\n",
      "37/37 [==============================] - 0s 4ms/step - loss: 61121144.0000 - val_loss: 62437740.0000\n",
      "Epoch 79/300\n",
      "37/37 [==============================] - 0s 4ms/step - loss: 60568204.0000 - val_loss: 61892900.0000\n",
      "Epoch 80/300\n",
      "37/37 [==============================] - 0s 4ms/step - loss: 60010268.0000 - val_loss: 61317652.0000\n",
      "Epoch 81/300\n",
      "37/37 [==============================] - 0s 4ms/step - loss: 59455356.0000 - val_loss: 60757024.0000\n",
      "Epoch 82/300\n",
      "37/37 [==============================] - 0s 4ms/step - loss: 58867772.0000 - val_loss: 60180716.0000\n",
      "Epoch 83/300\n",
      "37/37 [==============================] - 0s 4ms/step - loss: 58291380.0000 - val_loss: 59600120.0000\n",
      "Epoch 84/300\n",
      "37/37 [==============================] - 0s 4ms/step - loss: 57689600.0000 - val_loss: 58994936.0000\n",
      "Epoch 85/300\n",
      "37/37 [==============================] - 0s 4ms/step - loss: 57094356.0000 - val_loss: 58394160.0000\n",
      "Epoch 86/300\n",
      "37/37 [==============================] - 0s 5ms/step - loss: 56476644.0000 - val_loss: 57779352.0000\n",
      "Epoch 87/300\n",
      "37/37 [==============================] - 0s 4ms/step - loss: 55845796.0000 - val_loss: 57162256.0000\n",
      "Epoch 88/300\n",
      "37/37 [==============================] - 0s 4ms/step - loss: 55222128.0000 - val_loss: 56539144.0000\n",
      "Epoch 89/300\n",
      "37/37 [==============================] - 0s 5ms/step - loss: 54564612.0000 - val_loss: 55843924.0000\n",
      "Epoch 90/300\n",
      "37/37 [==============================] - 0s 5ms/step - loss: 53910092.0000 - val_loss: 55196136.0000\n",
      "Epoch 91/300\n",
      "37/37 [==============================] - 0s 4ms/step - loss: 53258568.0000 - val_loss: 54517056.0000\n",
      "Epoch 92/300\n",
      "37/37 [==============================] - 0s 4ms/step - loss: 52592196.0000 - val_loss: 53865344.0000\n",
      "Epoch 93/300\n",
      "37/37 [==============================] - 0s 4ms/step - loss: 51901504.0000 - val_loss: 53160376.0000\n",
      "Epoch 94/300\n",
      "37/37 [==============================] - 0s 4ms/step - loss: 51202900.0000 - val_loss: 52464232.0000\n",
      "Epoch 95/300\n",
      "37/37 [==============================] - 0s 4ms/step - loss: 50495080.0000 - val_loss: 51746080.0000\n",
      "Epoch 96/300\n",
      "37/37 [==============================] - 0s 4ms/step - loss: 49780512.0000 - val_loss: 51018836.0000\n",
      "Epoch 97/300\n",
      "37/37 [==============================] - 0s 4ms/step - loss: 49059932.0000 - val_loss: 50301396.0000\n",
      "Epoch 98/300\n",
      "37/37 [==============================] - 0s 4ms/step - loss: 48372344.0000 - val_loss: 49538256.0000\n",
      "Epoch 99/300\n",
      "37/37 [==============================] - 0s 4ms/step - loss: 47568884.0000 - val_loss: 48823376.0000\n",
      "Epoch 100/300\n",
      "37/37 [==============================] - 0s 4ms/step - loss: 46859904.0000 - val_loss: 48018264.0000\n",
      "Epoch 101/300\n",
      "37/37 [==============================] - 0s 4ms/step - loss: 46104156.0000 - val_loss: 47262268.0000\n",
      "Epoch 102/300\n",
      "37/37 [==============================] - 0s 4ms/step - loss: 45344268.0000 - val_loss: 46501288.0000\n",
      "Epoch 103/300\n",
      "37/37 [==============================] - 0s 4ms/step - loss: 44591064.0000 - val_loss: 45727056.0000\n",
      "Epoch 104/300\n",
      "37/37 [==============================] - 0s 4ms/step - loss: 43846340.0000 - val_loss: 44971420.0000\n",
      "Epoch 105/300\n",
      "37/37 [==============================] - 0s 4ms/step - loss: 43099512.0000 - val_loss: 44178772.0000\n",
      "Epoch 106/300\n",
      "37/37 [==============================] - 0s 6ms/step - loss: 42354772.0000 - val_loss: 43415328.0000\n",
      "Epoch 107/300\n",
      "37/37 [==============================] - 0s 5ms/step - loss: 41601952.0000 - val_loss: 42653888.0000\n",
      "Epoch 108/300\n",
      "37/37 [==============================] - 0s 4ms/step - loss: 40888432.0000 - val_loss: 41917984.0000\n",
      "Epoch 109/300\n",
      "37/37 [==============================] - 0s 4ms/step - loss: 40160024.0000 - val_loss: 41194580.0000\n",
      "Epoch 110/300\n",
      "37/37 [==============================] - 0s 4ms/step - loss: 39448056.0000 - val_loss: 40472476.0000\n",
      "Epoch 111/300\n",
      "37/37 [==============================] - 0s 4ms/step - loss: 38788020.0000 - val_loss: 39756016.0000\n",
      "Epoch 112/300\n",
      "37/37 [==============================] - 0s 5ms/step - loss: 38121936.0000 - val_loss: 39097428.0000\n",
      "Epoch 113/300\n",
      "37/37 [==============================] - 0s 5ms/step - loss: 37480660.0000 - val_loss: 38419768.0000\n",
      "Epoch 114/300\n",
      "37/37 [==============================] - 0s 4ms/step - loss: 36875756.0000 - val_loss: 37771496.0000\n",
      "Epoch 115/300\n",
      "37/37 [==============================] - 0s 5ms/step - loss: 36264204.0000 - val_loss: 37150340.0000\n",
      "Epoch 116/300\n",
      "37/37 [==============================] - 0s 5ms/step - loss: 35689016.0000 - val_loss: 36546392.0000\n",
      "Epoch 117/300\n",
      "37/37 [==============================] - 0s 5ms/step - loss: 35146692.0000 - val_loss: 35984376.0000\n",
      "Epoch 118/300\n",
      "37/37 [==============================] - 0s 5ms/step - loss: 34650024.0000 - val_loss: 35460036.0000\n",
      "Epoch 119/300\n",
      "37/37 [==============================] - 0s 5ms/step - loss: 34136420.0000 - val_loss: 34911240.0000\n",
      "Epoch 120/300\n",
      "37/37 [==============================] - 0s 5ms/step - loss: 33665180.0000 - val_loss: 34422352.0000\n",
      "Epoch 121/300\n",
      "37/37 [==============================] - 0s 5ms/step - loss: 33207094.0000 - val_loss: 33966840.0000\n",
      "Epoch 122/300\n",
      "37/37 [==============================] - 0s 4ms/step - loss: 32811230.0000 - val_loss: 33517136.0000\n",
      "Epoch 123/300\n",
      "37/37 [==============================] - 0s 4ms/step - loss: 32368904.0000 - val_loss: 33093856.0000\n",
      "Epoch 124/300\n",
      "37/37 [==============================] - 0s 4ms/step - loss: 31981748.0000 - val_loss: 32676192.0000\n",
      "Epoch 125/300\n",
      "37/37 [==============================] - 0s 4ms/step - loss: 31620946.0000 - val_loss: 32296198.0000\n",
      "Epoch 126/300\n",
      "37/37 [==============================] - 0s 4ms/step - loss: 31302950.0000 - val_loss: 31934900.0000\n",
      "Epoch 127/300\n",
      "37/37 [==============================] - 0s 4ms/step - loss: 30898822.0000 - val_loss: 31568272.0000\n",
      "Epoch 128/300\n",
      "37/37 [==============================] - 0s 4ms/step - loss: 30575586.0000 - val_loss: 31290236.0000\n",
      "Epoch 129/300\n",
      "37/37 [==============================] - 0s 4ms/step - loss: 30251688.0000 - val_loss: 30899524.0000\n",
      "Epoch 130/300\n",
      "37/37 [==============================] - 0s 5ms/step - loss: 29908874.0000 - val_loss: 30564622.0000\n",
      "Epoch 131/300\n",
      "37/37 [==============================] - 0s 4ms/step - loss: 29563660.0000 - val_loss: 30219670.0000\n",
      "Epoch 132/300\n",
      "37/37 [==============================] - 0s 4ms/step - loss: 29231982.0000 - val_loss: 29872130.0000\n",
      "Epoch 133/300\n",
      "37/37 [==============================] - 0s 4ms/step - loss: 28888822.0000 - val_loss: 29516156.0000\n",
      "Epoch 134/300\n",
      "37/37 [==============================] - 0s 4ms/step - loss: 28536670.0000 - val_loss: 29172452.0000\n",
      "Epoch 135/300\n",
      "37/37 [==============================] - 0s 4ms/step - loss: 28142558.0000 - val_loss: 28767260.0000\n",
      "Epoch 136/300\n",
      "37/37 [==============================] - 0s 4ms/step - loss: 27717320.0000 - val_loss: 28368886.0000\n",
      "Epoch 137/300\n",
      "37/37 [==============================] - 0s 4ms/step - loss: 27314084.0000 - val_loss: 27976818.0000\n",
      "Epoch 138/300\n",
      "37/37 [==============================] - 0s 4ms/step - loss: 26921114.0000 - val_loss: 27618498.0000\n",
      "Epoch 139/300\n",
      "37/37 [==============================] - 0s 4ms/step - loss: 26555508.0000 - val_loss: 27262614.0000\n",
      "Epoch 140/300\n",
      "37/37 [==============================] - 0s 4ms/step - loss: 26199338.0000 - val_loss: 26947250.0000\n",
      "Epoch 141/300\n",
      "37/37 [==============================] - 0s 4ms/step - loss: 25921826.0000 - val_loss: 26664712.0000\n",
      "Epoch 142/300\n",
      "37/37 [==============================] - 0s 4ms/step - loss: 25610188.0000 - val_loss: 26380230.0000\n",
      "Epoch 143/300\n"
     ]
    },
    {
     "name": "stdout",
     "output_type": "stream",
     "text": [
      "37/37 [==============================] - 0s 4ms/step - loss: 25345924.0000 - val_loss: 26124880.0000\n",
      "Epoch 144/300\n",
      "37/37 [==============================] - 0s 4ms/step - loss: 25078216.0000 - val_loss: 25943432.0000\n",
      "Epoch 145/300\n",
      "37/37 [==============================] - 0s 4ms/step - loss: 24853106.0000 - val_loss: 25689342.0000\n",
      "Epoch 146/300\n",
      "37/37 [==============================] - 0s 4ms/step - loss: 24675086.0000 - val_loss: 25490778.0000\n",
      "Epoch 147/300\n",
      "37/37 [==============================] - 0s 4ms/step - loss: 24463060.0000 - val_loss: 25333016.0000\n",
      "Epoch 148/300\n",
      "37/37 [==============================] - 0s 4ms/step - loss: 24311594.0000 - val_loss: 25184622.0000\n",
      "Epoch 149/300\n",
      "37/37 [==============================] - 0s 4ms/step - loss: 24107274.0000 - val_loss: 24990124.0000\n",
      "Epoch 150/300\n",
      "37/37 [==============================] - 0s 4ms/step - loss: 23952972.0000 - val_loss: 24874838.0000\n",
      "Epoch 151/300\n",
      "37/37 [==============================] - 0s 4ms/step - loss: 23821276.0000 - val_loss: 24726292.0000\n",
      "Epoch 152/300\n",
      "37/37 [==============================] - 0s 4ms/step - loss: 23672066.0000 - val_loss: 24624012.0000\n",
      "Epoch 153/300\n",
      "37/37 [==============================] - 0s 4ms/step - loss: 23561070.0000 - val_loss: 24499826.0000\n",
      "Epoch 154/300\n",
      "37/37 [==============================] - 0s 4ms/step - loss: 23430132.0000 - val_loss: 24388682.0000\n",
      "Epoch 155/300\n",
      "37/37 [==============================] - 0s 4ms/step - loss: 23317596.0000 - val_loss: 24308252.0000\n",
      "Epoch 156/300\n",
      "37/37 [==============================] - 0s 4ms/step - loss: 23209844.0000 - val_loss: 24171614.0000\n",
      "Epoch 157/300\n",
      "37/37 [==============================] - 0s 4ms/step - loss: 23087354.0000 - val_loss: 24060200.0000\n",
      "Epoch 158/300\n",
      "37/37 [==============================] - 0s 4ms/step - loss: 22955532.0000 - val_loss: 23940186.0000\n",
      "Epoch 159/300\n",
      "37/37 [==============================] - 0s 4ms/step - loss: 22831634.0000 - val_loss: 23827400.0000\n",
      "Epoch 160/300\n",
      "37/37 [==============================] - 0s 4ms/step - loss: 22705960.0000 - val_loss: 23719426.0000\n",
      "Epoch 161/300\n",
      "37/37 [==============================] - 0s 4ms/step - loss: 22619302.0000 - val_loss: 23625924.0000\n",
      "Epoch 162/300\n",
      "37/37 [==============================] - 0s 4ms/step - loss: 22479586.0000 - val_loss: 23509286.0000\n",
      "Epoch 163/300\n",
      "37/37 [==============================] - 0s 4ms/step - loss: 22381164.0000 - val_loss: 23426138.0000\n",
      "Epoch 164/300\n",
      "37/37 [==============================] - 0s 4ms/step - loss: 22280328.0000 - val_loss: 23323720.0000\n",
      "Epoch 165/300\n",
      "37/37 [==============================] - 0s 4ms/step - loss: 22191800.0000 - val_loss: 23260246.0000\n",
      "Epoch 166/300\n",
      "37/37 [==============================] - 0s 4ms/step - loss: 22102334.0000 - val_loss: 23180712.0000\n",
      "Epoch 167/300\n",
      "37/37 [==============================] - 0s 4ms/step - loss: 22022476.0000 - val_loss: 23133548.0000\n",
      "Epoch 168/300\n",
      "37/37 [==============================] - 0s 4ms/step - loss: 22002408.0000 - val_loss: 23058918.0000\n",
      "Epoch 169/300\n",
      "37/37 [==============================] - 0s 4ms/step - loss: 21859184.0000 - val_loss: 22988980.0000\n",
      "Epoch 170/300\n",
      "37/37 [==============================] - 0s 4ms/step - loss: 21821920.0000 - val_loss: 22959378.0000\n",
      "Epoch 171/300\n",
      "37/37 [==============================] - 0s 4ms/step - loss: 21825778.0000 - val_loss: 22885072.0000\n",
      "Epoch 172/300\n",
      "37/37 [==============================] - 0s 4ms/step - loss: 21681946.0000 - val_loss: 22862612.0000\n",
      "Epoch 173/300\n",
      "37/37 [==============================] - 0s 4ms/step - loss: 21635060.0000 - val_loss: 22791438.0000\n",
      "Epoch 174/300\n",
      "37/37 [==============================] - 0s 4ms/step - loss: 21588012.0000 - val_loss: 22752934.0000\n",
      "Epoch 175/300\n",
      "37/37 [==============================] - 0s 4ms/step - loss: 21540166.0000 - val_loss: 22714908.0000\n",
      "Epoch 176/300\n",
      "37/37 [==============================] - 0s 4ms/step - loss: 21489448.0000 - val_loss: 22670624.0000\n",
      "Epoch 177/300\n",
      "37/37 [==============================] - 0s 4ms/step - loss: 21448290.0000 - val_loss: 22634040.0000\n",
      "Epoch 178/300\n",
      "37/37 [==============================] - 0s 4ms/step - loss: 21411660.0000 - val_loss: 22593954.0000\n",
      "Epoch 179/300\n",
      "37/37 [==============================] - 0s 4ms/step - loss: 21375402.0000 - val_loss: 22560956.0000\n",
      "Epoch 180/300\n",
      "37/37 [==============================] - 0s 4ms/step - loss: 21336410.0000 - val_loss: 22526510.0000\n",
      "Epoch 181/300\n",
      "37/37 [==============================] - 0s 4ms/step - loss: 21288642.0000 - val_loss: 22520314.0000\n",
      "Epoch 182/300\n",
      "37/37 [==============================] - 0s 4ms/step - loss: 21228248.0000 - val_loss: 22468696.0000\n",
      "Epoch 183/300\n",
      "37/37 [==============================] - 0s 4ms/step - loss: 21199740.0000 - val_loss: 22424564.0000\n",
      "Epoch 184/300\n",
      "37/37 [==============================] - 0s 4ms/step - loss: 21158500.0000 - val_loss: 22392484.0000\n",
      "Epoch 185/300\n",
      "37/37 [==============================] - 0s 4ms/step - loss: 21112276.0000 - val_loss: 22396470.0000\n",
      "Epoch 186/300\n",
      "37/37 [==============================] - 0s 4ms/step - loss: 21096950.0000 - val_loss: 22332726.0000\n",
      "Epoch 187/300\n",
      "37/37 [==============================] - 0s 4ms/step - loss: 21074830.0000 - val_loss: 22301086.0000\n",
      "Epoch 188/300\n",
      "37/37 [==============================] - 0s 4ms/step - loss: 21008906.0000 - val_loss: 22271524.0000\n",
      "Epoch 189/300\n",
      "37/37 [==============================] - 0s 4ms/step - loss: 20967072.0000 - val_loss: 22240748.0000\n",
      "Epoch 190/300\n",
      "37/37 [==============================] - 0s 4ms/step - loss: 20937904.0000 - val_loss: 22254194.0000\n",
      "Epoch 191/300\n",
      "37/37 [==============================] - 0s 4ms/step - loss: 20949262.0000 - val_loss: 22187898.0000\n",
      "Epoch 192/300\n",
      "37/37 [==============================] - 0s 4ms/step - loss: 20862758.0000 - val_loss: 22181760.0000\n",
      "Epoch 193/300\n",
      "37/37 [==============================] - 0s 4ms/step - loss: 20842080.0000 - val_loss: 22131056.0000\n",
      "Epoch 194/300\n",
      "37/37 [==============================] - 0s 4ms/step - loss: 20834868.0000 - val_loss: 22106034.0000\n",
      "Epoch 195/300\n",
      "37/37 [==============================] - 0s 4ms/step - loss: 20784590.0000 - val_loss: 22133440.0000\n",
      "Epoch 196/300\n",
      "37/37 [==============================] - 0s 4ms/step - loss: 20756662.0000 - val_loss: 22054880.0000\n",
      "Epoch 197/300\n",
      "37/37 [==============================] - 0s 4ms/step - loss: 20709488.0000 - val_loss: 22024412.0000\n",
      "Epoch 198/300\n",
      "37/37 [==============================] - 0s 4ms/step - loss: 20697880.0000 - val_loss: 22012062.0000\n",
      "Epoch 199/300\n",
      "37/37 [==============================] - 0s 6ms/step - loss: 20670228.0000 - val_loss: 21971026.0000\n",
      "Epoch 200/300\n",
      "37/37 [==============================] - 0s 4ms/step - loss: 20627978.0000 - val_loss: 21948980.0000\n",
      "Epoch 201/300\n",
      "37/37 [==============================] - 0s 4ms/step - loss: 20599854.0000 - val_loss: 21923696.0000\n",
      "Epoch 202/300\n",
      "37/37 [==============================] - 0s 4ms/step - loss: 20569392.0000 - val_loss: 21899580.0000\n",
      "Epoch 203/300\n",
      "37/37 [==============================] - 0s 4ms/step - loss: 20544200.0000 - val_loss: 21873826.0000\n",
      "Epoch 204/300\n",
      "37/37 [==============================] - 0s 4ms/step - loss: 20507974.0000 - val_loss: 21861294.0000\n",
      "Epoch 205/300\n",
      "37/37 [==============================] - 0s 4ms/step - loss: 20476094.0000 - val_loss: 21891894.0000\n",
      "Epoch 206/300\n",
      "37/37 [==============================] - 0s 4ms/step - loss: 20464318.0000 - val_loss: 21810608.0000\n",
      "Epoch 207/300\n",
      "37/37 [==============================] - 0s 4ms/step - loss: 20439608.0000 - val_loss: 21834480.0000\n",
      "Epoch 208/300\n",
      "37/37 [==============================] - 0s 4ms/step - loss: 20409456.0000 - val_loss: 21789968.0000\n",
      "Epoch 209/300\n",
      "37/37 [==============================] - 0s 4ms/step - loss: 20366078.0000 - val_loss: 21769482.0000\n",
      "Epoch 210/300\n",
      "37/37 [==============================] - 0s 4ms/step - loss: 20359840.0000 - val_loss: 21725578.0000\n",
      "Epoch 211/300\n",
      "37/37 [==============================] - 0s 4ms/step - loss: 20354722.0000 - val_loss: 21713960.0000\n",
      "Epoch 212/300\n",
      "37/37 [==============================] - 0s 4ms/step - loss: 20303386.0000 - val_loss: 21687476.0000\n",
      "Epoch 213/300\n",
      "37/37 [==============================] - 0s 4ms/step - loss: 20264114.0000 - val_loss: 21678222.0000\n",
      "Epoch 214/300\n"
     ]
    },
    {
     "name": "stdout",
     "output_type": "stream",
     "text": [
      "37/37 [==============================] - 0s 4ms/step - loss: 20266306.0000 - val_loss: 21665120.0000\n",
      "Epoch 215/300\n",
      "37/37 [==============================] - 0s 4ms/step - loss: 20249504.0000 - val_loss: 21627100.0000\n",
      "Epoch 216/300\n",
      "37/37 [==============================] - 0s 4ms/step - loss: 20247708.0000 - val_loss: 21604626.0000\n",
      "Epoch 217/300\n",
      "37/37 [==============================] - 0s 5ms/step - loss: 20181480.0000 - val_loss: 21595142.0000\n",
      "Epoch 218/300\n",
      "37/37 [==============================] - 0s 5ms/step - loss: 20171664.0000 - val_loss: 21570180.0000\n",
      "Epoch 219/300\n",
      "37/37 [==============================] - 0s 5ms/step - loss: 20134392.0000 - val_loss: 21599138.0000\n",
      "Epoch 220/300\n",
      "37/37 [==============================] - 0s 4ms/step - loss: 20146806.0000 - val_loss: 21579448.0000\n",
      "Epoch 221/300\n",
      "37/37 [==============================] - 0s 5ms/step - loss: 20174632.0000 - val_loss: 21518524.0000\n",
      "Epoch 222/300\n",
      "37/37 [==============================] - 0s 4ms/step - loss: 20073460.0000 - val_loss: 21505484.0000\n",
      "Epoch 223/300\n",
      "37/37 [==============================] - 0s 8ms/step - loss: 20076254.0000 - val_loss: 21484752.0000\n",
      "Epoch 224/300\n",
      "37/37 [==============================] - 0s 7ms/step - loss: 20035652.0000 - val_loss: 21478484.0000\n",
      "Epoch 225/300\n",
      "37/37 [==============================] - 0s 5ms/step - loss: 20042908.0000 - val_loss: 21453116.0000\n",
      "Epoch 226/300\n",
      "37/37 [==============================] - 0s 6ms/step - loss: 20015250.0000 - val_loss: 21443482.0000\n",
      "Epoch 227/300\n",
      "37/37 [==============================] - 0s 8ms/step - loss: 19997688.0000 - val_loss: 21422898.0000\n",
      "Epoch 228/300\n",
      "37/37 [==============================] - 0s 8ms/step - loss: 19977202.0000 - val_loss: 21414376.0000\n",
      "Epoch 229/300\n",
      "37/37 [==============================] - 0s 6ms/step - loss: 19947202.0000 - val_loss: 21447400.0000\n",
      "Epoch 230/300\n",
      "37/37 [==============================] - 0s 5ms/step - loss: 19944760.0000 - val_loss: 21391074.0000\n",
      "Epoch 231/300\n",
      "37/37 [==============================] - 0s 10ms/step - loss: 19938698.0000 - val_loss: 21382942.0000\n",
      "Epoch 232/300\n",
      "37/37 [==============================] - 0s 9ms/step - loss: 19915874.0000 - val_loss: 21346702.0000\n",
      "Epoch 233/300\n",
      "37/37 [==============================] - 0s 7ms/step - loss: 19894650.0000 - val_loss: 21333580.0000\n",
      "Epoch 234/300\n",
      "37/37 [==============================] - 0s 7ms/step - loss: 19891036.0000 - val_loss: 21319390.0000\n",
      "Epoch 235/300\n",
      "37/37 [==============================] - 0s 8ms/step - loss: 19853876.0000 - val_loss: 21338224.0000\n",
      "Epoch 236/300\n",
      "37/37 [==============================] - 0s 8ms/step - loss: 19864790.0000 - val_loss: 21286726.0000\n",
      "Epoch 237/300\n",
      "37/37 [==============================] - 0s 7ms/step - loss: 19837634.0000 - val_loss: 21312128.0000\n",
      "Epoch 238/300\n",
      "37/37 [==============================] - 0s 6ms/step - loss: 19812698.0000 - val_loss: 21261970.0000\n",
      "Epoch 239/300\n",
      "37/37 [==============================] - 0s 7ms/step - loss: 19830126.0000 - val_loss: 21248754.0000\n",
      "Epoch 240/300\n",
      "37/37 [==============================] - 0s 7ms/step - loss: 19786146.0000 - val_loss: 21235772.0000\n",
      "Epoch 241/300\n",
      "37/37 [==============================] - 0s 5ms/step - loss: 19799600.0000 - val_loss: 21230712.0000\n",
      "Epoch 242/300\n",
      "37/37 [==============================] - 0s 5ms/step - loss: 19756362.0000 - val_loss: 21207744.0000\n",
      "Epoch 243/300\n",
      "37/37 [==============================] - 0s 5ms/step - loss: 19750758.0000 - val_loss: 21189970.0000\n",
      "Epoch 244/300\n",
      "37/37 [==============================] - 0s 5ms/step - loss: 19766558.0000 - val_loss: 21179252.0000\n",
      "Epoch 245/300\n",
      "37/37 [==============================] - 0s 5ms/step - loss: 19731606.0000 - val_loss: 21176158.0000\n",
      "Epoch 246/300\n",
      "37/37 [==============================] - 0s 7ms/step - loss: 19711548.0000 - val_loss: 21165456.0000\n",
      "Epoch 247/300\n",
      "37/37 [==============================] - 0s 10ms/step - loss: 19702084.0000 - val_loss: 21145874.0000\n",
      "Epoch 248/300\n",
      "37/37 [==============================] - 0s 8ms/step - loss: 19688524.0000 - val_loss: 21138554.0000\n",
      "Epoch 249/300\n",
      "37/37 [==============================] - 0s 8ms/step - loss: 19673450.0000 - val_loss: 21186218.0000\n",
      "Epoch 250/300\n",
      "37/37 [==============================] - 0s 8ms/step - loss: 19660700.0000 - val_loss: 21120632.0000\n",
      "Epoch 251/300\n",
      "37/37 [==============================] - 0s 8ms/step - loss: 19643114.0000 - val_loss: 21105664.0000\n",
      "Epoch 252/300\n",
      "37/37 [==============================] - 0s 8ms/step - loss: 19655062.0000 - val_loss: 21092092.0000\n",
      "Epoch 253/300\n",
      "37/37 [==============================] - 0s 7ms/step - loss: 19649764.0000 - val_loss: 21087856.0000\n",
      "Epoch 254/300\n",
      "37/37 [==============================] - 0s 5ms/step - loss: 19612228.0000 - val_loss: 21070146.0000\n",
      "Epoch 255/300\n",
      "37/37 [==============================] - 0s 5ms/step - loss: 19594816.0000 - val_loss: 21068742.0000\n",
      "Epoch 256/300\n",
      "37/37 [==============================] - 0s 5ms/step - loss: 19590692.0000 - val_loss: 21063552.0000\n",
      "Epoch 257/300\n",
      "37/37 [==============================] - 0s 4ms/step - loss: 19580582.0000 - val_loss: 21035552.0000\n",
      "Epoch 258/300\n",
      "37/37 [==============================] - 0s 5ms/step - loss: 19580786.0000 - val_loss: 21028704.0000\n",
      "Epoch 259/300\n",
      "37/37 [==============================] - 0s 7ms/step - loss: 19546924.0000 - val_loss: 21019222.0000\n",
      "Epoch 260/300\n",
      "37/37 [==============================] - 0s 8ms/step - loss: 19544314.0000 - val_loss: 21005382.0000\n",
      "Epoch 261/300\n",
      "37/37 [==============================] - 0s 8ms/step - loss: 19532936.0000 - val_loss: 21008148.0000\n",
      "Epoch 262/300\n",
      "37/37 [==============================] - 0s 5ms/step - loss: 19520304.0000 - val_loss: 20988788.0000\n",
      "Epoch 263/300\n",
      "37/37 [==============================] - 0s 5ms/step - loss: 19511924.0000 - val_loss: 20995652.0000\n",
      "Epoch 264/300\n",
      "37/37 [==============================] - 0s 5ms/step - loss: 19511714.0000 - val_loss: 21016590.0000\n",
      "Epoch 265/300\n",
      "37/37 [==============================] - 0s 7ms/step - loss: 19503498.0000 - val_loss: 20957520.0000\n",
      "Epoch 266/300\n",
      "37/37 [==============================] - 0s 8ms/step - loss: 19476408.0000 - val_loss: 20956244.0000\n",
      "Epoch 267/300\n",
      "37/37 [==============================] - 0s 5ms/step - loss: 19457434.0000 - val_loss: 20942328.0000\n",
      "Epoch 268/300\n",
      "37/37 [==============================] - 0s 5ms/step - loss: 19454436.0000 - val_loss: 20931808.0000\n",
      "Epoch 269/300\n",
      "37/37 [==============================] - 0s 5ms/step - loss: 19446766.0000 - val_loss: 20921256.0000\n",
      "Epoch 270/300\n",
      "37/37 [==============================] - 0s 4ms/step - loss: 19462310.0000 - val_loss: 20908800.0000\n",
      "Epoch 271/300\n",
      "37/37 [==============================] - 0s 5ms/step - loss: 19429974.0000 - val_loss: 20925144.0000\n",
      "Epoch 272/300\n",
      "37/37 [==============================] - 0s 8ms/step - loss: 19411398.0000 - val_loss: 20897118.0000\n",
      "Epoch 273/300\n",
      "37/37 [==============================] - 0s 5ms/step - loss: 19418416.0000 - val_loss: 20882728.0000\n",
      "Epoch 274/300\n",
      "37/37 [==============================] - 0s 4ms/step - loss: 19410486.0000 - val_loss: 20903306.0000\n",
      "Epoch 275/300\n",
      "37/37 [==============================] - 0s 5ms/step - loss: 19400810.0000 - val_loss: 20879474.0000\n",
      "Epoch 276/300\n",
      "37/37 [==============================] - 0s 4ms/step - loss: 19377202.0000 - val_loss: 20853516.0000\n",
      "Epoch 277/300\n",
      "37/37 [==============================] - 0s 4ms/step - loss: 19379708.0000 - val_loss: 20857752.0000\n",
      "Epoch 278/300\n",
      "37/37 [==============================] - 0s 4ms/step - loss: 19361424.0000 - val_loss: 20837142.0000\n",
      "Epoch 279/300\n",
      "37/37 [==============================] - 0s 4ms/step - loss: 19353614.0000 - val_loss: 20828636.0000\n",
      "Epoch 280/300\n",
      "37/37 [==============================] - 0s 5ms/step - loss: 19342216.0000 - val_loss: 20860762.0000\n",
      "Epoch 281/300\n",
      "37/37 [==============================] - 0s 5ms/step - loss: 19359030.0000 - val_loss: 20808902.0000\n",
      "Epoch 282/300\n",
      "37/37 [==============================] - 0s 5ms/step - loss: 19325926.0000 - val_loss: 20810816.0000\n",
      "Epoch 283/300\n",
      "37/37 [==============================] - 0s 5ms/step - loss: 19310678.0000 - val_loss: 20802106.0000\n",
      "Epoch 284/300\n",
      "37/37 [==============================] - 0s 7ms/step - loss: 19317210.0000 - val_loss: 20789124.0000\n",
      "Epoch 285/300\n"
     ]
    },
    {
     "name": "stdout",
     "output_type": "stream",
     "text": [
      "37/37 [==============================] - 0s 5ms/step - loss: 19302174.0000 - val_loss: 20770028.0000\n",
      "Epoch 286/300\n",
      "37/37 [==============================] - 0s 4ms/step - loss: 19294846.0000 - val_loss: 20766648.0000\n",
      "Epoch 287/300\n",
      "37/37 [==============================] - 0s 4ms/step - loss: 19274586.0000 - val_loss: 20767980.0000\n",
      "Epoch 288/300\n",
      "37/37 [==============================] - 0s 4ms/step - loss: 19280894.0000 - val_loss: 20755778.0000\n",
      "Epoch 289/300\n",
      "37/37 [==============================] - 0s 4ms/step - loss: 19263704.0000 - val_loss: 20741250.0000\n",
      "Epoch 290/300\n",
      "37/37 [==============================] - 0s 4ms/step - loss: 19257618.0000 - val_loss: 20768562.0000\n",
      "Epoch 291/300\n",
      "37/37 [==============================] - 0s 4ms/step - loss: 19249224.0000 - val_loss: 20723184.0000\n",
      "Epoch 292/300\n",
      "37/37 [==============================] - 0s 4ms/step - loss: 19241652.0000 - val_loss: 20719018.0000\n",
      "Epoch 293/300\n",
      "37/37 [==============================] - 0s 4ms/step - loss: 19215266.0000 - val_loss: 20789160.0000\n",
      "Epoch 294/300\n",
      "37/37 [==============================] - 0s 4ms/step - loss: 19243912.0000 - val_loss: 20693924.0000\n",
      "Epoch 295/300\n",
      "37/37 [==============================] - 0s 4ms/step - loss: 19227692.0000 - val_loss: 20687042.0000\n",
      "Epoch 296/300\n",
      "37/37 [==============================] - 0s 4ms/step - loss: 19194738.0000 - val_loss: 20683386.0000\n",
      "Epoch 297/300\n",
      "37/37 [==============================] - 0s 4ms/step - loss: 19186500.0000 - val_loss: 20674674.0000\n",
      "Epoch 298/300\n",
      "37/37 [==============================] - 0s 4ms/step - loss: 19191084.0000 - val_loss: 20663338.0000\n",
      "Epoch 299/300\n",
      "37/37 [==============================] - 0s 5ms/step - loss: 19199632.0000 - val_loss: 20661684.0000\n",
      "Epoch 300/300\n",
      "37/37 [==============================] - 0s 5ms/step - loss: 19162590.0000 - val_loss: 20643650.0000\n"
     ]
    },
    {
     "data": {
      "text/plain": [
       "<keras.src.callbacks.History at 0x7f7ea4c84f40>"
      ]
     },
     "execution_count": 55,
     "metadata": {},
     "output_type": "execute_result"
    }
   ],
   "source": [
    "model.fit(x=x_train, y=y_train,validation_data=(x_test,y_test),batch_size=250, epochs=300)"
   ]
  },
  {
   "cell_type": "code",
   "execution_count": 58,
   "id": "623c158b",
   "metadata": {},
   "outputs": [],
   "source": [
    "kayipVerisi= pd.DataFrame(model.history.history)"
   ]
  },
  {
   "cell_type": "code",
   "execution_count": 59,
   "id": "33d8310f",
   "metadata": {},
   "outputs": [
    {
     "data": {
      "text/html": [
       "<div>\n",
       "<style scoped>\n",
       "    .dataframe tbody tr th:only-of-type {\n",
       "        vertical-align: middle;\n",
       "    }\n",
       "\n",
       "    .dataframe tbody tr th {\n",
       "        vertical-align: top;\n",
       "    }\n",
       "\n",
       "    .dataframe thead th {\n",
       "        text-align: right;\n",
       "    }\n",
       "</style>\n",
       "<table border=\"1\" class=\"dataframe\">\n",
       "  <thead>\n",
       "    <tr style=\"text-align: right;\">\n",
       "      <th></th>\n",
       "      <th>loss</th>\n",
       "      <th>val_loss</th>\n",
       "    </tr>\n",
       "  </thead>\n",
       "  <tbody>\n",
       "    <tr>\n",
       "      <th>0</th>\n",
       "      <td>672120640.0</td>\n",
       "      <td>688058432.0</td>\n",
       "    </tr>\n",
       "    <tr>\n",
       "      <th>1</th>\n",
       "      <td>672048576.0</td>\n",
       "      <td>687943040.0</td>\n",
       "    </tr>\n",
       "    <tr>\n",
       "      <th>2</th>\n",
       "      <td>671859712.0</td>\n",
       "      <td>687636608.0</td>\n",
       "    </tr>\n",
       "    <tr>\n",
       "      <th>3</th>\n",
       "      <td>671352512.0</td>\n",
       "      <td>686809216.0</td>\n",
       "    </tr>\n",
       "    <tr>\n",
       "      <th>4</th>\n",
       "      <td>670035328.0</td>\n",
       "      <td>684755264.0</td>\n",
       "    </tr>\n",
       "  </tbody>\n",
       "</table>\n",
       "</div>"
      ],
      "text/plain": [
       "          loss     val_loss\n",
       "0  672120640.0  688058432.0\n",
       "1  672048576.0  687943040.0\n",
       "2  671859712.0  687636608.0\n",
       "3  671352512.0  686809216.0\n",
       "4  670035328.0  684755264.0"
      ]
     },
     "execution_count": 59,
     "metadata": {},
     "output_type": "execute_result"
    }
   ],
   "source": [
    "kayipVerisi.head()"
   ]
  },
  {
   "cell_type": "code",
   "execution_count": 60,
   "id": "ad26f5d1",
   "metadata": {},
   "outputs": [
    {
     "data": {
      "text/plain": [
       "<Axes: >"
      ]
     },
     "execution_count": 60,
     "metadata": {},
     "output_type": "execute_result"
    },
    {
     "data": {
      "image/png": "[encoded data removed]",
      "text/plain": [
       "<Figure size 640x480 with 1 Axes>"
      ]
     },
     "metadata": {},
     "output_type": "display_data"
    }
   ],
   "source": [
    "kayipVerisi.plot()"
   ]
  },
  {
   "cell_type": "code",
   "execution_count": 61,
   "id": "c550ab26",
   "metadata": {},
   "outputs": [],
   "source": [
    "from sklearn.metrics import mean_squared_error, mean_absolute_error"
   ]
  },
  {
   "cell_type": "code",
   "execution_count": 62,
   "id": "c977ae7c",
   "metadata": {},
   "outputs": [
    {
     "name": "stdout",
     "output_type": "stream",
     "text": [
      "122/122 [==============================] - 0s 2ms/step\n"
     ]
    }
   ],
   "source": [
    "tahminDizisi= model.predict(x_test)"
   ]
  },
  {
   "cell_type": "code",
   "execution_count": 63,
   "id": "089b4a9e",
   "metadata": {},
   "outputs": [
    {
     "data": {
      "text/plain": [
       "array([[22484.21 ],\n",
       "       [23851.777],\n",
       "       [25066.945],\n",
       "       ...,\n",
       "       [26390.76 ],\n",
       "       [11750.599],\n",
       "       [24878.043]], dtype=float32)"
      ]
     },
     "execution_count": 63,
     "metadata": {},
     "output_type": "execute_result"
    }
   ],
   "source": [
    "tahminDizisi"
   ]
  },
  {
   "cell_type": "code",
   "execution_count": 64,
   "id": "36894056",
   "metadata": {},
   "outputs": [
    {
     "data": {
      "text/plain": [
       "3221.4403894985826"
      ]
     },
     "execution_count": 64,
     "metadata": {},
     "output_type": "execute_result"
    }
   ],
   "source": [
    "mean_absolute_error(y_test, tahminDizisi)"
   ]
  },
  {
   "cell_type": "code",
   "execution_count": 65,
   "id": "9ba6b1d7",
   "metadata": {},
   "outputs": [
    {
     "data": {
      "text/html": [
       "<div>\n",
       "<style scoped>\n",
       "    .dataframe tbody tr th:only-of-type {\n",
       "        vertical-align: middle;\n",
       "    }\n",
       "\n",
       "    .dataframe tbody tr th {\n",
       "        vertical-align: top;\n",
       "    }\n",
       "\n",
       "    .dataframe thead th {\n",
       "        text-align: right;\n",
       "    }\n",
       "</style>\n",
       "<table border=\"1\" class=\"dataframe\">\n",
       "  <thead>\n",
       "    <tr style=\"text-align: right;\">\n",
       "      <th></th>\n",
       "      <th>year</th>\n",
       "      <th>price</th>\n",
       "      <th>mileage</th>\n",
       "      <th>tax</th>\n",
       "      <th>mpg</th>\n",
       "      <th>engineSize</th>\n",
       "    </tr>\n",
       "  </thead>\n",
       "  <tbody>\n",
       "    <tr>\n",
       "      <th>count</th>\n",
       "      <td>12987.000000</td>\n",
       "      <td>12987.000000</td>\n",
       "      <td>12987.000000</td>\n",
       "      <td>12987.000000</td>\n",
       "      <td>12987.000000</td>\n",
       "      <td>12987.000000</td>\n",
       "    </tr>\n",
       "    <tr>\n",
       "      <th>mean</th>\n",
       "      <td>2017.285516</td>\n",
       "      <td>24074.855779</td>\n",
       "      <td>22133.367367</td>\n",
       "      <td>129.676215</td>\n",
       "      <td>55.438392</td>\n",
       "      <td>2.051059</td>\n",
       "    </tr>\n",
       "    <tr>\n",
       "      <th>std</th>\n",
       "      <td>2.189633</td>\n",
       "      <td>9866.601115</td>\n",
       "      <td>21197.472376</td>\n",
       "      <td>65.167429</td>\n",
       "      <td>15.025902</td>\n",
       "      <td>0.532313</td>\n",
       "    </tr>\n",
       "    <tr>\n",
       "      <th>min</th>\n",
       "      <td>1997.000000</td>\n",
       "      <td>650.000000</td>\n",
       "      <td>1.000000</td>\n",
       "      <td>0.000000</td>\n",
       "      <td>1.100000</td>\n",
       "      <td>0.000000</td>\n",
       "    </tr>\n",
       "    <tr>\n",
       "      <th>25%</th>\n",
       "      <td>2016.000000</td>\n",
       "      <td>17355.000000</td>\n",
       "      <td>6320.000000</td>\n",
       "      <td>125.000000</td>\n",
       "      <td>45.600000</td>\n",
       "      <td>1.700000</td>\n",
       "    </tr>\n",
       "    <tr>\n",
       "      <th>50%</th>\n",
       "      <td>2018.000000</td>\n",
       "      <td>22299.000000</td>\n",
       "      <td>15371.000000</td>\n",
       "      <td>145.000000</td>\n",
       "      <td>56.500000</td>\n",
       "      <td>2.000000</td>\n",
       "    </tr>\n",
       "    <tr>\n",
       "      <th>75%</th>\n",
       "      <td>2019.000000</td>\n",
       "      <td>28706.000000</td>\n",
       "      <td>31986.500000</td>\n",
       "      <td>145.000000</td>\n",
       "      <td>64.200000</td>\n",
       "      <td>2.100000</td>\n",
       "    </tr>\n",
       "    <tr>\n",
       "      <th>max</th>\n",
       "      <td>2020.000000</td>\n",
       "      <td>65990.000000</td>\n",
       "      <td>259000.000000</td>\n",
       "      <td>580.000000</td>\n",
       "      <td>217.300000</td>\n",
       "      <td>6.200000</td>\n",
       "    </tr>\n",
       "  </tbody>\n",
       "</table>\n",
       "</div>"
      ],
      "text/plain": [
       "               year         price        mileage           tax           mpg  \\\n",
       "count  12987.000000  12987.000000   12987.000000  12987.000000  12987.000000   \n",
       "mean    2017.285516  24074.855779   22133.367367    129.676215     55.438392   \n",
       "std        2.189633   9866.601115   21197.472376     65.167429     15.025902   \n",
       "min     1997.000000    650.000000       1.000000      0.000000      1.100000   \n",
       "25%     2016.000000  17355.000000    6320.000000    125.000000     45.600000   \n",
       "50%     2018.000000  22299.000000   15371.000000    145.000000     56.500000   \n",
       "75%     2019.000000  28706.000000   31986.500000    145.000000     64.200000   \n",
       "max     2020.000000  65990.000000  259000.000000    580.000000    217.300000   \n",
       "\n",
       "         engineSize  \n",
       "count  12987.000000  \n",
       "mean       2.051059  \n",
       "std        0.532313  \n",
       "min        0.000000  \n",
       "25%        1.700000  \n",
       "50%        2.000000  \n",
       "75%        2.100000  \n",
       "max        6.200000  "
      ]
     },
     "execution_count": 65,
     "metadata": {},
     "output_type": "execute_result"
    }
   ],
   "source": [
    "dataFrame.describe()"
   ]
  },
  {
   "cell_type": "code",
   "execution_count": 67,
   "id": "1f8bb826",
   "metadata": {},
   "outputs": [
    {
     "data": {
      "text/plain": [
       "[<matplotlib.lines.Line2D at 0x7f7ea1a0f4f0>]"
      ]
     },
     "execution_count": 67,
     "metadata": {},
     "output_type": "execute_result"
    },
    {
     "data": {
      "image/png": "[encoded data removed]",
      "text/plain": [
       "<Figure size 640x480 with 1 Axes>"
      ]
     },
     "metadata": {},
     "output_type": "display_data"
    }
   ],
   "source": [
    "plt.scatter(y_test,tahminDizisi)\n",
    "plt.plot(y_test, y_test,\"g-*\")"
   ]
  },
  {
   "cell_type": "code",
   "execution_count": 68,
   "id": "3c68513a",
   "metadata": {},
   "outputs": [
    {
     "data": {
      "text/plain": [
       "year           2020.0\n",
       "price         65980.0\n",
       "mileage        3999.0\n",
       "tax             145.0\n",
       "mpg              28.0\n",
       "engineSize        4.0\n",
       "Name: 3191, dtype: float64"
      ]
     },
     "execution_count": 68,
     "metadata": {},
     "output_type": "execute_result"
    }
   ],
   "source": [
    "dataFrame.iloc[2]"
   ]
  },
  {
   "cell_type": "code",
   "execution_count": 71,
   "id": "8acf1219",
   "metadata": {},
   "outputs": [],
   "source": [
    "yeniArabaS=dataFrame.drop(\"price\", axis=1).iloc[2]"
   ]
  },
  {
   "cell_type": "code",
   "execution_count": 72,
   "id": "11f80403",
   "metadata": {},
   "outputs": [
    {
     "data": {
      "text/plain": [
       "year          2020.0\n",
       "mileage       3999.0\n",
       "tax            145.0\n",
       "mpg             28.0\n",
       "engineSize       4.0\n",
       "Name: 3191, dtype: float64"
      ]
     },
     "execution_count": 72,
     "metadata": {},
     "output_type": "execute_result"
    }
   ],
   "source": [
    "yeniArabaS"
   ]
  },
  {
   "cell_type": "code",
   "execution_count": 73,
   "id": "9fa57c10",
   "metadata": {},
   "outputs": [],
   "source": [
    "yeniArabaS= scaler.transform(yeniArabaS.values.reshape(-1,5))"
   ]
  },
  {
   "cell_type": "code",
   "execution_count": 74,
   "id": "7f40b2d0",
   "metadata": {},
   "outputs": [
    {
     "name": "stdout",
     "output_type": "stream",
     "text": [
      "1/1 [==============================] - 0s 39ms/step\n"
     ]
    },
    {
     "data": {
      "text/plain": [
       "array([[62481.582]], dtype=float32)"
      ]
     },
     "execution_count": 74,
     "metadata": {},
     "output_type": "execute_result"
    }
   ],
   "source": [
    "model.predict(yeniArabaS)"
   ]
  },
  {
   "cell_type": "code",
   "execution_count": null,
   "id": "c4cdec91",
   "metadata": {},
   "outputs": [],
   "source": []
  }
 ],
 "metadata": {
  "kernelspec": {
   "display_name": "Python 3 (ipykernel)",
   "language": "python",
   "name": "python3"
  },
  "language_info": {
   "codemirror_mode": {
    "name": "ipython",
    "version": 3
   },
   "file_extension": ".py",
   "mimetype": "text/x-python",
   "name": "python",
   "nbconvert_exporter": "python",
   "pygments_lexer": "ipython3",
   "version": "3.9.18"
  }
 },
 "nbformat": 4,
 "nbformat_minor": 5
}
